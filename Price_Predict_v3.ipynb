{
 "cells": [
  {
   "cell_type": "code",
   "execution_count": 1,
   "metadata": {
    "collapsed": true
   },
   "outputs": [],
   "source": [
    "import pandas as pd\n",
    "import numpy as np\n",
    "import matplotlib.pyplot as plt\n",
    "import seaborn as sns\n",
    "from sklearn.preprocessing import StandardScaler\n",
    "from sklearn.model_selection import GridSearchCV\n",
    "\n",
    "random_state=7\n",
    "\n",
    "%matplotlib inline\n",
    "pd.set_option('display.max_columns', 500)"
   ]
  },
  {
   "cell_type": "markdown",
   "metadata": {},
   "source": [
    "# Reading Data"
   ]
  },
  {
   "cell_type": "code",
   "execution_count": 2,
   "metadata": {
    "collapsed": false
   },
   "outputs": [
    {
     "name": "stdout",
     "output_type": "stream",
     "text": [
      "The shape of training data is (30471, 292)\n",
      "The shape of test data is (7662, 291)\n",
      "The shape of macro data is (2484, 100)\n"
     ]
    }
   ],
   "source": [
    "train=pd.read_csv('input/train.csv', parse_dates=['timestamp'])\n",
    "test=pd.read_csv('input/test.csv', parse_dates=['timestamp'])\n",
    "macro=pd.read_csv('input/macro.csv', parse_dates=['timestamp'])\n",
    "\n",
    "test_id=test['id']\n",
    "\n",
    "print('The shape of training data is', train.shape)\n",
    "print('The shape of test data is', test.shape)\n",
    "print('The shape of macro data is', macro.shape)\n",
    "\n",
    "\n",
    "#fts contains the feature names (exclude id and year)\n",
    "fts=list(train.columns[1:-1])"
   ]
  },
  {
   "cell_type": "code",
   "execution_count": 3,
   "metadata": {
    "collapsed": false
   },
   "outputs": [
    {
     "name": "stdout",
     "output_type": "stream",
     "text": [
      "shape of the investment type (17693, 292)\n",
      "num of ind_1m 930\n",
      "num of ind_2m 680\n",
      "num of ind_3m 292\n"
     ]
    }
   ],
   "source": [
    "trainsub=train[train.timestamp<'2015-01-01']\n",
    "trainsub=trainsub[trainsub.product_type=='Investment']\n",
    "print('shape of the investment type', trainsub.shape)\n",
    "\n",
    "ind_1m=trainsub[trainsub.price_doc <= 1000000].index\n",
    "ind_2m=trainsub[trainsub.price_doc == 2000000].index\n",
    "ind_3m=trainsub[trainsub.price_doc==3000000].index\n",
    "\n",
    "print('num of ind_1m', len(ind_1m))\n",
    "print('num of ind_2m', len(ind_2m))\n",
    "print('num of ind_3m', len(ind_3m))\n",
    "\n",
    "train_index=set(train.index.copy())\n",
    "\n",
    "for ind, gap in zip([ind_1m, ind_2m, ind_3m], [10, 3, 2]):\n",
    "    ind_set=set(ind)\n",
    "    ind_set_cut=ind.difference(set(ind[::gap]))\n",
    "    \n",
    "    train_index=train_index.difference(ind_set_cut)\n",
    "    \n",
    "train=train.loc[train_index]\n",
    "\n",
    "target=np.log(train.price_doc+1)\n",
    "#number of training and test example\n",
    "n_train=train.shape[0]\n",
    "n_test=test.shape[0]"
   ]
  },
  {
   "cell_type": "markdown",
   "metadata": {},
   "source": [
    "# Combine train and test and Change Categorical Data to Dummies"
   ]
  },
  {
   "cell_type": "code",
   "execution_count": 4,
   "metadata": {
    "collapsed": false
   },
   "outputs": [
    {
     "name": "stdout",
     "output_type": "stream",
     "text": [
      "shape of train plus test (36697, 290)\n",
      "child_on_acc_pre_school      object\n",
      "modern_education_share       object\n",
      "old_education_build_share    object\n",
      "dtype: object\n"
     ]
    }
   ],
   "source": [
    "#concatenate training and test\n",
    "raw_data=pd.concat([train.loc[:,fts[0]:fts[-1]], test.loc[:, fts[0]:fts[-1]]])\n",
    "print('shape of train plus test', raw_data.shape)\n",
    "\n",
    "macro_dtypes=macro.dtypes\n",
    "print(macro_dtypes[macro_dtypes=='object'])"
   ]
  },
  {
   "cell_type": "code",
   "execution_count": 5,
   "metadata": {
    "collapsed": false
   },
   "outputs": [
    {
     "name": "stdout",
     "output_type": "stream",
     "text": [
      "shape of the merged data (36697, 389)\n"
     ]
    }
   ],
   "source": [
    "#join the macro data\n",
    "raw_data=pd.merge(raw_data, macro, how='left', on='timestamp')\n",
    "print('shape of the merged data', raw_data.shape)"
   ]
  },
  {
   "cell_type": "code",
   "execution_count": 6,
   "metadata": {
    "collapsed": false
   },
   "outputs": [
    {
     "name": "stdout",
     "output_type": "stream",
     "text": [
      "shape after get_dummies (36697, 557)\n"
     ]
    }
   ],
   "source": [
    "data=pd.get_dummies(raw_data)\n",
    "print('shape after get_dummies', data.shape)\n",
    "\n",
    "#change timestamp to year\n",
    "data['timestamp']=data['timestamp'].dt.year.astype(int)"
   ]
  },
  {
   "cell_type": "markdown",
   "metadata": {},
   "source": [
    "# Fill NaN with median values"
   ]
  },
  {
   "cell_type": "code",
   "execution_count": 7,
   "metadata": {
    "collapsed": false
   },
   "outputs": [
    {
     "name": "stdout",
     "output_type": "stream",
     "text": [
      "number of NaN in train and test 916718\n",
      "number of NaN in train and test 0\n"
     ]
    }
   ],
   "source": [
    "#when using get_dummies the Nan in categorical data are ignored. The possible Nan are numbers. fill them with mean\n",
    "print('number of NaN in train and test', data.isnull().sum().sum())\n",
    "\n",
    "data=data.fillna(-1000)\n",
    "\n",
    "print('number of NaN in train and test', data.isnull().sum().sum())"
   ]
  },
  {
   "cell_type": "markdown",
   "metadata": {
    "collapsed": true
   },
   "source": [
    "# Try standardscaler before fitting"
   ]
  },
  {
   "cell_type": "code",
   "execution_count": 8,
   "metadata": {
    "collapsed": false
   },
   "outputs": [],
   "source": [
    "from sklearn.preprocessing import StandardScaler\n",
    "col_names=list(data.columns)\n",
    "\n",
    "ss=StandardScaler(with_mean=False, with_std=True)\n",
    "data_std=ss.fit_transform(data)\n",
    "data_std=pd.DataFrame(data_std, columns=col_names)\n",
    "\n",
    "train_std=data_std.iloc[:n_train, :]\n",
    "test_std=data_std.iloc[n_train :, :]"
   ]
  },
  {
   "cell_type": "markdown",
   "metadata": {
    "collapsed": true
   },
   "source": [
    "# Random Forest"
   ]
  },
  {
   "cell_type": "code",
   "execution_count": null,
   "metadata": {
    "collapsed": false
   },
   "outputs": [],
   "source": [
    "from sklearn.ensemble import RandomForestRegressor\n",
    "from sklearn.model_selection import GridSearchCV\n",
    "\n",
    "clf1=RandomForestRegressor(n_estimators=500, random_state=random_state)\n",
    "clf1.fit(train_std, target)"
   ]
  },
  {
   "cell_type": "code",
   "execution_count": null,
   "metadata": {
    "collapsed": false
   },
   "outputs": [],
   "source": [
    "pre_rf=clf1.predict(test_std)\n",
    "pre_rf=np.exp(pre_rf)+1\n",
    "\n",
    "#test_id=np.array(test_id)\n",
    "#submission=pd.DataFrame({'id': test_id, 'price_doc': pre_rf})\n",
    "#submission.to_csv(path_or_buf='170517submission_randomforest_with_macro_data.csv',index=False)\n",
    "#submission.head()"
   ]
  },
  {
   "cell_type": "markdown",
   "metadata": {},
   "source": [
    "# XGBOOST"
   ]
  },
  {
   "cell_type": "code",
   "execution_count": 9,
   "metadata": {
    "collapsed": false
   },
   "outputs": [
    {
     "name": "stderr",
     "output_type": "stream",
     "text": [
      "/home/xinlin/anaconda3/lib/python3.5/site-packages/sklearn/cross_validation.py:44: DeprecationWarning: This module was deprecated in version 0.18 in favor of the model_selection module into which all the refactored classes and functions are moved. Also note that the interface of the new CV iterators are different from that of this module. This module will be removed in 0.20.\n",
      "  \"This module will be removed in 0.20.\", DeprecationWarning)\n"
     ]
    }
   ],
   "source": [
    "import xgboost as xgb"
   ]
  },
  {
   "cell_type": "code",
   "execution_count": 10,
   "metadata": {
    "collapsed": false
   },
   "outputs": [
    {
     "name": "stdout",
     "output_type": "stream",
     "text": [
      "shape of train_part (23228, 557)\n",
      "shape of target_part (23228,)\n",
      "shape of val_train (5807, 557)\n",
      "shape of val_target (5807,)\n"
     ]
    }
   ],
   "source": [
    "from sklearn.model_selection import train_test_split\n",
    "train_part, val_train, target_part, val_target=train_test_split(train_std, target, test_size=0.2, \n",
    "                                                              random_state=random_state)\n",
    "print('shape of train_part', train_part.shape)\n",
    "print('shape of target_part', target_part.shape)\n",
    "print('shape of val_train', val_train.shape)\n",
    "print('shape of val_target', val_target.shape)"
   ]
  },
  {
   "cell_type": "code",
   "execution_count": 24,
   "metadata": {
    "collapsed": false
   },
   "outputs": [
    {
     "name": "stdout",
     "output_type": "stream",
     "text": [
      "[0]\tvalidation-rmse:8.52182\n",
      "Will train until validation-rmse hasn't improved in 20 rounds.\n",
      "[20]\tvalidation-rmse:5.69713\n",
      "[40]\tvalidation-rmse:3.81386\n",
      "[60]\tvalidation-rmse:2.56079\n",
      "[80]\tvalidation-rmse:1.72997\n",
      "[100]\tvalidation-rmse:1.18323\n",
      "[120]\tvalidation-rmse:0.829465\n",
      "[140]\tvalidation-rmse:0.607452\n",
      "[160]\tvalidation-rmse:0.475474\n",
      "[180]\tvalidation-rmse:0.402016\n",
      "[200]\tvalidation-rmse:0.363783\n",
      "[220]\tvalidation-rmse:0.344848\n",
      "[240]\tvalidation-rmse:0.335385\n",
      "[260]\tvalidation-rmse:0.330593\n",
      "[280]\tvalidation-rmse:0.328078\n",
      "[300]\tvalidation-rmse:0.326585\n",
      "[320]\tvalidation-rmse:0.325732\n",
      "[340]\tvalidation-rmse:0.325074\n",
      "[360]\tvalidation-rmse:0.324637\n",
      "[380]\tvalidation-rmse:0.324278\n",
      "[400]\tvalidation-rmse:0.323911\n",
      "[420]\tvalidation-rmse:0.323775\n",
      "[440]\tvalidation-rmse:0.323569\n",
      "[460]\tvalidation-rmse:0.323415\n",
      "[480]\tvalidation-rmse:0.323282\n",
      "[500]\tvalidation-rmse:0.323065\n",
      "[520]\tvalidation-rmse:0.322867\n",
      "[540]\tvalidation-rmse:0.322587\n",
      "[560]\tvalidation-rmse:0.322563\n",
      "[580]\tvalidation-rmse:0.322386\n",
      "[600]\tvalidation-rmse:0.322347\n",
      "[620]\tvalidation-rmse:0.322233\n",
      "[640]\tvalidation-rmse:0.322165\n",
      "[660]\tvalidation-rmse:0.321949\n",
      "[680]\tvalidation-rmse:0.321898\n",
      "[700]\tvalidation-rmse:0.3217\n",
      "[720]\tvalidation-rmse:0.321613\n",
      "[740]\tvalidation-rmse:0.321552\n",
      "[760]\tvalidation-rmse:0.321639\n",
      "Stopping. Best iteration:\n",
      "[746]\tvalidation-rmse:0.321542\n",
      "\n"
     ]
    }
   ],
   "source": [
    "#find relative importance features using xgb\n",
    "dtrain=xgb.DMatrix(train_part, target_part)\n",
    "dval=xgb.DMatrix(val_train, val_target)\n",
    "dtest=xgb.DMatrix(test_std)\n",
    "\n",
    "xgb_params = {\n",
    "    'eta': 0.02,\n",
    "    'max_depth': 6,\n",
    "    'subsample': 0.8,\n",
    "    'colsample_bytree': 0.8,\n",
    "    'objective': 'reg:linear',\n",
    "    'eval_metric': 'rmse',\n",
    "    'labmda':100,\n",
    "    'silent': 0,\n",
    "    'base_score': 7\n",
    "}\n",
    "\n",
    "model=xgb.train(xgb_params, dtrain, num_boost_round=2000, \n",
    "                evals=[(dval, 'validation')], early_stopping_rounds=20,\n",
    "               verbose_eval=20)\n",
    "num_boost_round=model.best_iteration"
   ]
  },
  {
   "cell_type": "code",
   "execution_count": 25,
   "metadata": {
    "collapsed": false
   },
   "outputs": [
    {
     "name": "stdout",
     "output_type": "stream",
     "text": [
      "number of important features 208\n"
     ]
    }
   ],
   "source": [
    "import operator\n",
    "score=model.get_fscore()\n",
    "score=sorted(score.items(), key=operator.itemgetter(1), reverse=True)\n",
    "score=pd.DataFrame(score, columns=['feature', 'fscore'])\n",
    "\n",
    "importance_rate=0.01\n",
    "f_index=score[score.fscore>importance_rate*score.fscore.max()].feature\n",
    "print('number of important features', len(f_index))\n",
    "df_f_index=pd.DataFrame(f_index)\n",
    "df_f_index.to_csv(path_or_buf='features_importance_rate_0.01_withallmacro')"
   ]
  },
  {
   "cell_type": "code",
   "execution_count": 26,
   "metadata": {
    "collapsed": false
   },
   "outputs": [
    {
     "name": "stdout",
     "output_type": "stream",
     "text": [
      "[0]\tvalidation-rmse:8.52292\n",
      "Will train until validation-rmse hasn't improved in 20 rounds.\n",
      "[20]\tvalidation-rmse:5.71415\n",
      "[40]\tvalidation-rmse:3.84135\n",
      "[60]\tvalidation-rmse:2.59719\n",
      "[80]\tvalidation-rmse:1.77336\n",
      "[100]\tvalidation-rmse:1.23073\n",
      "[120]\tvalidation-rmse:0.877964\n",
      "[140]\tvalidation-rmse:0.653389\n",
      "[160]\tvalidation-rmse:0.515217\n",
      "[180]\tvalidation-rmse:0.434398\n",
      "[200]\tvalidation-rmse:0.388521\n",
      "[220]\tvalidation-rmse:0.363246\n",
      "[240]\tvalidation-rmse:0.349167\n",
      "[260]\tvalidation-rmse:0.340985\n",
      "[280]\tvalidation-rmse:0.336181\n",
      "[300]\tvalidation-rmse:0.333206\n",
      "[320]\tvalidation-rmse:0.331174\n",
      "[340]\tvalidation-rmse:0.329702\n",
      "[360]\tvalidation-rmse:0.328513\n",
      "[380]\tvalidation-rmse:0.327669\n",
      "[400]\tvalidation-rmse:0.326764\n",
      "[420]\tvalidation-rmse:0.326078\n",
      "[440]\tvalidation-rmse:0.325489\n",
      "[460]\tvalidation-rmse:0.324998\n",
      "[480]\tvalidation-rmse:0.324555\n",
      "[500]\tvalidation-rmse:0.324251\n",
      "[520]\tvalidation-rmse:0.32393\n",
      "[540]\tvalidation-rmse:0.323684\n",
      "[560]\tvalidation-rmse:0.323401\n",
      "[580]\tvalidation-rmse:0.323179\n",
      "[600]\tvalidation-rmse:0.322909\n",
      "[620]\tvalidation-rmse:0.322721\n",
      "[640]\tvalidation-rmse:0.322612\n",
      "[660]\tvalidation-rmse:0.322491\n",
      "[680]\tvalidation-rmse:0.322396\n",
      "[700]\tvalidation-rmse:0.322248\n",
      "[720]\tvalidation-rmse:0.322192\n",
      "[740]\tvalidation-rmse:0.322117\n",
      "[760]\tvalidation-rmse:0.32207\n",
      "[780]\tvalidation-rmse:0.321932\n",
      "[800]\tvalidation-rmse:0.321852\n",
      "[820]\tvalidation-rmse:0.321737\n",
      "[840]\tvalidation-rmse:0.321747\n",
      "[860]\tvalidation-rmse:0.32168\n",
      "[880]\tvalidation-rmse:0.32164\n",
      "[900]\tvalidation-rmse:0.321547\n",
      "[920]\tvalidation-rmse:0.321548\n",
      "[940]\tvalidation-rmse:0.321549\n",
      "Stopping. Best iteration:\n",
      "[925]\tvalidation-rmse:0.321527\n",
      "\n"
     ]
    }
   ],
   "source": [
    "train_select=pd.DataFrame(train_part)\n",
    "train_select=train_select[f_index]\n",
    "\n",
    "val_select=pd.DataFrame(val_train)\n",
    "val_select=val_select[f_index]\n",
    "\n",
    "dtrain_select=xgb.DMatrix(train_select, target_part)\n",
    "dval_select=xgb.DMatrix(val_select, val_target)\n",
    "\n",
    "xgb_params = {\n",
    "    'eta': 0.02,\n",
    "    'max_depth': 6,\n",
    "    'subsample': 0.8,\n",
    "    'colsample_bytree': 0.8,\n",
    "    'objective': 'reg:linear',\n",
    "    'eval_metric': 'rmse',\n",
    "    'silent': 0,\n",
    "    'lambda':100,\n",
    "    'base_score':7\n",
    "}\n",
    "\n",
    "model=xgb.train(xgb_params, dtrain_select, num_boost_round=2000, \n",
    "                evals=[(dval_select, 'validation')], early_stopping_rounds=20,\n",
    "               verbose_eval=20)\n",
    "num_boost_round=model.best_iteration"
   ]
  },
  {
   "cell_type": "code",
   "execution_count": 27,
   "metadata": {
    "collapsed": false
   },
   "outputs": [],
   "source": [
    "Ddata_std=xgb.DMatrix(train_std[f_index], target)"
   ]
  },
  {
   "cell_type": "code",
   "execution_count": 28,
   "metadata": {
    "collapsed": false
   },
   "outputs": [
    {
     "name": "stdout",
     "output_type": "stream",
     "text": [
      "[0]\ttrain-rmse:8.52532+0.00100574\ttest-rmse:8.52532+0.00412476\n",
      "[50]\ttrain-rmse:3.15761+0.000312647\ttest-rmse:3.15761+0.00481429\n"
     ]
    },
    {
     "ename": "KeyboardInterrupt",
     "evalue": "",
     "output_type": "error",
     "traceback": [
      "\u001b[1;31m---------------------------------------------------------------------------\u001b[0m",
      "\u001b[1;31mKeyboardInterrupt\u001b[0m                         Traceback (most recent call last)",
      "\u001b[1;32m<ipython-input-28-889269e04c2d>\u001b[0m in \u001b[0;36m<module>\u001b[1;34m()\u001b[0m\n\u001b[0;32m     13\u001b[0m \u001b[1;33m\u001b[0m\u001b[0m\n\u001b[0;32m     14\u001b[0m cv_results=xgb.cv(xgb_params, Ddata_std, num_boost_round=3000, \n\u001b[1;32m---> 15\u001b[1;33m        nfold=5, verbose_eval=50, early_stopping_rounds=20)\n\u001b[0m",
      "\u001b[1;32m/home/xinlin/anaconda3/lib/python3.5/site-packages/xgboost/training.py\u001b[0m in \u001b[0;36mcv\u001b[1;34m(params, dtrain, num_boost_round, nfold, stratified, folds, metrics, obj, feval, maximize, early_stopping_rounds, fpreproc, as_pandas, verbose_eval, show_stdv, seed, callbacks)\u001b[0m\n\u001b[0;32m    398\u001b[0m                            evaluation_result_list=None))\n\u001b[0;32m    399\u001b[0m         \u001b[1;32mfor\u001b[0m \u001b[0mfold\u001b[0m \u001b[1;32min\u001b[0m \u001b[0mcvfolds\u001b[0m\u001b[1;33m:\u001b[0m\u001b[1;33m\u001b[0m\u001b[0m\n\u001b[1;32m--> 400\u001b[1;33m             \u001b[0mfold\u001b[0m\u001b[1;33m.\u001b[0m\u001b[0mupdate\u001b[0m\u001b[1;33m(\u001b[0m\u001b[0mi\u001b[0m\u001b[1;33m,\u001b[0m \u001b[0mobj\u001b[0m\u001b[1;33m)\u001b[0m\u001b[1;33m\u001b[0m\u001b[0m\n\u001b[0m\u001b[0;32m    401\u001b[0m         \u001b[0mres\u001b[0m \u001b[1;33m=\u001b[0m \u001b[0maggcv\u001b[0m\u001b[1;33m(\u001b[0m\u001b[1;33m[\u001b[0m\u001b[0mf\u001b[0m\u001b[1;33m.\u001b[0m\u001b[0meval\u001b[0m\u001b[1;33m(\u001b[0m\u001b[0mi\u001b[0m\u001b[1;33m,\u001b[0m \u001b[0mfeval\u001b[0m\u001b[1;33m)\u001b[0m \u001b[1;32mfor\u001b[0m \u001b[0mf\u001b[0m \u001b[1;32min\u001b[0m \u001b[0mcvfolds\u001b[0m\u001b[1;33m]\u001b[0m\u001b[1;33m)\u001b[0m\u001b[1;33m\u001b[0m\u001b[0m\n\u001b[0;32m    402\u001b[0m \u001b[1;33m\u001b[0m\u001b[0m\n",
      "\u001b[1;32m/home/xinlin/anaconda3/lib/python3.5/site-packages/xgboost/training.py\u001b[0m in \u001b[0;36mupdate\u001b[1;34m(self, iteration, fobj)\u001b[0m\n\u001b[0;32m    217\u001b[0m     \u001b[1;32mdef\u001b[0m \u001b[0mupdate\u001b[0m\u001b[1;33m(\u001b[0m\u001b[0mself\u001b[0m\u001b[1;33m,\u001b[0m \u001b[0miteration\u001b[0m\u001b[1;33m,\u001b[0m \u001b[0mfobj\u001b[0m\u001b[1;33m)\u001b[0m\u001b[1;33m:\u001b[0m\u001b[1;33m\u001b[0m\u001b[0m\n\u001b[0;32m    218\u001b[0m         \u001b[1;34m\"\"\"\"Update the boosters for one iteration\"\"\"\u001b[0m\u001b[1;33m\u001b[0m\u001b[0m\n\u001b[1;32m--> 219\u001b[1;33m         \u001b[0mself\u001b[0m\u001b[1;33m.\u001b[0m\u001b[0mbst\u001b[0m\u001b[1;33m.\u001b[0m\u001b[0mupdate\u001b[0m\u001b[1;33m(\u001b[0m\u001b[0mself\u001b[0m\u001b[1;33m.\u001b[0m\u001b[0mdtrain\u001b[0m\u001b[1;33m,\u001b[0m \u001b[0miteration\u001b[0m\u001b[1;33m,\u001b[0m \u001b[0mfobj\u001b[0m\u001b[1;33m)\u001b[0m\u001b[1;33m\u001b[0m\u001b[0m\n\u001b[0m\u001b[0;32m    220\u001b[0m \u001b[1;33m\u001b[0m\u001b[0m\n\u001b[0;32m    221\u001b[0m     \u001b[1;32mdef\u001b[0m \u001b[0meval\u001b[0m\u001b[1;33m(\u001b[0m\u001b[0mself\u001b[0m\u001b[1;33m,\u001b[0m \u001b[0miteration\u001b[0m\u001b[1;33m,\u001b[0m \u001b[0mfeval\u001b[0m\u001b[1;33m)\u001b[0m\u001b[1;33m:\u001b[0m\u001b[1;33m\u001b[0m\u001b[0m\n",
      "\u001b[1;32m/home/xinlin/anaconda3/lib/python3.5/site-packages/xgboost/core.py\u001b[0m in \u001b[0;36mupdate\u001b[1;34m(self, dtrain, iteration, fobj)\u001b[0m\n\u001b[0;32m    804\u001b[0m \u001b[1;33m\u001b[0m\u001b[0m\n\u001b[0;32m    805\u001b[0m         \u001b[1;32mif\u001b[0m \u001b[0mfobj\u001b[0m \u001b[1;32mis\u001b[0m \u001b[1;32mNone\u001b[0m\u001b[1;33m:\u001b[0m\u001b[1;33m\u001b[0m\u001b[0m\n\u001b[1;32m--> 806\u001b[1;33m             \u001b[0m_check_call\u001b[0m\u001b[1;33m(\u001b[0m\u001b[0m_LIB\u001b[0m\u001b[1;33m.\u001b[0m\u001b[0mXGBoosterUpdateOneIter\u001b[0m\u001b[1;33m(\u001b[0m\u001b[0mself\u001b[0m\u001b[1;33m.\u001b[0m\u001b[0mhandle\u001b[0m\u001b[1;33m,\u001b[0m \u001b[0miteration\u001b[0m\u001b[1;33m,\u001b[0m \u001b[0mdtrain\u001b[0m\u001b[1;33m.\u001b[0m\u001b[0mhandle\u001b[0m\u001b[1;33m)\u001b[0m\u001b[1;33m)\u001b[0m\u001b[1;33m\u001b[0m\u001b[0m\n\u001b[0m\u001b[0;32m    807\u001b[0m         \u001b[1;32melse\u001b[0m\u001b[1;33m:\u001b[0m\u001b[1;33m\u001b[0m\u001b[0m\n\u001b[0;32m    808\u001b[0m             \u001b[0mpred\u001b[0m \u001b[1;33m=\u001b[0m \u001b[0mself\u001b[0m\u001b[1;33m.\u001b[0m\u001b[0mpredict\u001b[0m\u001b[1;33m(\u001b[0m\u001b[0mdtrain\u001b[0m\u001b[1;33m)\u001b[0m\u001b[1;33m\u001b[0m\u001b[0m\n",
      "\u001b[1;31mKeyboardInterrupt\u001b[0m: "
     ]
    }
   ],
   "source": [
    "#use xgb.cv to do cross validation\n",
    "xgb_params = {\n",
    "    'eta': 0.02,\n",
    "    'max_depth': 6,\n",
    "    'subsample': 0.8,\n",
    "    'colsample_bytree': 0.8,\n",
    "    'objective': 'reg:linear',\n",
    "    'eval_metric': 'rmse',\n",
    "    'silent': 0,\n",
    "    'lambda': 100,\n",
    "    'base_score': 7\n",
    "}\n",
    "\n",
    "cv_results=xgb.cv(xgb_params, Ddata_std, num_boost_round=3000, \n",
    "       nfold=5, verbose_eval=50, early_stopping_rounds=20)"
   ]
  },
  {
   "cell_type": "code",
   "execution_count": 29,
   "metadata": {
    "collapsed": false
   },
   "outputs": [],
   "source": [
    "full_model=xgb.train(xgb_params, Ddata_std, num_boost_round=num_boost_round)"
   ]
  },
  {
   "cell_type": "code",
   "execution_count": 30,
   "metadata": {
    "collapsed": false
   },
   "outputs": [
    {
     "data": {
      "text/plain": [
       "(array([   39.,    88.,   897.,  2788.,  2477.,  1022.,   247.,    66.,\n",
       "           28.,    10.]),\n",
       " array([ 14.31025505,  14.63928471,  14.96831436,  15.29734402,\n",
       "         15.62637367,  15.95540333,  16.28443298,  16.61346264,\n",
       "         16.94249229,  17.27152195,  17.60055161]),\n",
       " <a list of 10 Patch objects>)"
      ]
     },
     "execution_count": 30,
     "metadata": {},
     "output_type": "execute_result"
    },
    {
     "data": {
      "image/png": "[encoded data removed]",
      "text/plain": [
       "<matplotlib.figure.Figure at 0x7f99e4efd8d0>"
      ]
     },
     "metadata": {},
     "output_type": "display_data"
    }
   ],
   "source": [
    "dtest_select=xgb.DMatrix(test_std[f_index])\n",
    "pre_xgb=full_model.predict(dtest_select)\n",
    "\n",
    "plt.hist(pre_xgb)"
   ]
  },
  {
   "cell_type": "code",
   "execution_count": 31,
   "metadata": {
    "collapsed": false
   },
   "outputs": [
    {
     "data": {
      "text/html": [
       "<div>\n",
       "<table border=\"1\" class=\"dataframe\">\n",
       "  <thead>\n",
       "    <tr style=\"text-align: right;\">\n",
       "      <th></th>\n",
       "      <th>id</th>\n",
       "      <th>price_doc</th>\n",
       "    </tr>\n",
       "  </thead>\n",
       "  <tbody>\n",
       "    <tr>\n",
       "      <th>0</th>\n",
       "      <td>30474</td>\n",
       "      <td>5531034.5</td>\n",
       "    </tr>\n",
       "    <tr>\n",
       "      <th>1</th>\n",
       "      <td>30475</td>\n",
       "      <td>8743247.0</td>\n",
       "    </tr>\n",
       "    <tr>\n",
       "      <th>2</th>\n",
       "      <td>30476</td>\n",
       "      <td>5205453.5</td>\n",
       "    </tr>\n",
       "    <tr>\n",
       "      <th>3</th>\n",
       "      <td>30477</td>\n",
       "      <td>6277257.5</td>\n",
       "    </tr>\n",
       "    <tr>\n",
       "      <th>4</th>\n",
       "      <td>30478</td>\n",
       "      <td>5298138.5</td>\n",
       "    </tr>\n",
       "  </tbody>\n",
       "</table>\n",
       "</div>"
      ],
      "text/plain": [
       "      id  price_doc\n",
       "0  30474  5531034.5\n",
       "1  30475  8743247.0\n",
       "2  30476  5205453.5\n",
       "3  30477  6277257.5\n",
       "4  30478  5298138.5"
      ]
     },
     "execution_count": 31,
     "metadata": {},
     "output_type": "execute_result"
    }
   ],
   "source": [
    "pre_xgb=np.exp(pre_xgb)-1\n",
    "\n",
    "submission=pd.DataFrame({'id': test_id, 'price_doc': pre_xgb})\n",
    "submission.to_csv(path_or_buf='170520submission_xgb_with_all_macro_xgbimportance0.01_lambda_100_base_score_7.csv',index=False)\n",
    "submission.head()"
   ]
  },
  {
   "cell_type": "markdown",
   "metadata": {
    "collapsed": false
   },
   "source": [
    "# GBRT"
   ]
  },
  {
   "cell_type": "code",
   "execution_count": 25,
   "metadata": {
    "collapsed": false
   },
   "outputs": [],
   "source": [
    "from sklearn.ensemble import GradientBoostingRegressor\n",
    "\n",
    "clf=GradientBoostingRegressor(n_estimators=500,max_depth=5, \n",
    "                              verbose=1, random_state=random_state)"
   ]
  },
  {
   "cell_type": "code",
   "execution_count": 37,
   "metadata": {
    "collapsed": false
   },
   "outputs": [
    {
     "name": "stdout",
     "output_type": "stream",
     "text": [
      "Fitting 5 folds for each of 1 candidates, totalling 5 fits\n",
      "[CV] n_estimators=300, max_leaf_nodes=9, max_depth=None, learning_rate=0.03, subsample=0.8 \n",
      "      Iter       Train Loss      OOB Improve   Remaining Time \n",
      "         1           0.2522           0.0074            4.24m\n",
      "         2           0.2424           0.0070            4.28m\n",
      "         3           0.2351           0.0068            4.33m\n",
      "         4           0.2327           0.0062            4.34m\n",
      "         5           0.2259           0.0059            4.29m\n",
      "         6           0.2188           0.0053            4.29m\n",
      "         7           0.2138           0.0051            4.26m\n",
      "         8           0.2073           0.0050            4.26m\n",
      "         9           0.2038           0.0048            4.24m\n",
      "        10           0.1985           0.0043            4.24m\n",
      "        20           0.1648           0.0027            4.91m\n",
      "        30           0.1454           0.0017            5.07m\n",
      "        40           0.1313           0.0010            4.65m\n",
      "        50           0.1229           0.0007            4.41m\n",
      "        60           0.1165           0.0004            4.33m\n",
      "        70           0.1135           0.0003            4.31m\n",
      "        80           0.1095           0.0002            4.06m\n",
      "        90           0.1070           0.0002            3.94m\n",
      "       100           0.1058           0.0001            3.86m\n",
      "       200           0.0951           0.0000            1.94m\n",
      "       300           0.0874           0.0000            0.00s\n",
      "[CV]  n_estimators=300, max_leaf_nodes=9, max_depth=None, learning_rate=0.03, subsample=0.8, score=0.442591, total= 5.6min\n",
      "[CV] n_estimators=300, max_leaf_nodes=9, max_depth=None, learning_rate=0.03, subsample=0.8 \n"
     ]
    },
    {
     "name": "stderr",
     "output_type": "stream",
     "text": [
      "[Parallel(n_jobs=1)]: Done   1 out of   1 | elapsed:  5.6min remaining:    0.0s\n"
     ]
    },
    {
     "name": "stdout",
     "output_type": "stream",
     "text": [
      "      Iter       Train Loss      OOB Improve   Remaining Time \n",
      "         1           0.2631           0.0069            4.83m\n",
      "         2           0.2531           0.0066            4.78m\n",
      "         3           0.2468           0.0065            4.70m\n",
      "         4           0.2441           0.0061            4.62m\n",
      "         5           0.2354           0.0057            4.64m\n",
      "         6           0.2310           0.0050            4.61m\n",
      "         7           0.2238           0.0049            4.61m\n",
      "         8           0.2196           0.0048            4.57m\n",
      "         9           0.2156           0.0046            4.56m\n",
      "        10           0.2119           0.0042            4.55m\n",
      "        20           0.1786           0.0028            5.44m\n",
      "        30           0.1593           0.0016            5.73m\n",
      "        40           0.1461           0.0010            5.43m\n",
      "        50           0.1367           0.0006            5.22m\n",
      "        60           0.1304           0.0005            4.98m\n",
      "        70           0.1277           0.0003            5.04m\n",
      "        80           0.1234           0.0003            4.93m\n",
      "        90           0.1207           0.0002            4.59m\n",
      "       100           0.1185           0.0001            4.29m\n",
      "       200           0.1074          -0.0000            2.16m\n",
      "       300           0.0976           0.0000            0.00s\n",
      "[CV]  n_estimators=300, max_leaf_nodes=9, max_depth=None, learning_rate=0.03, subsample=0.8, score=0.624792, total= 6.0min\n",
      "[CV] n_estimators=300, max_leaf_nodes=9, max_depth=None, learning_rate=0.03, subsample=0.8 \n"
     ]
    },
    {
     "name": "stderr",
     "output_type": "stream",
     "text": [
      "[Parallel(n_jobs=1)]: Done   2 out of   2 | elapsed: 11.6min remaining:    0.0s\n"
     ]
    },
    {
     "name": "stdout",
     "output_type": "stream",
     "text": [
      "      Iter       Train Loss      OOB Improve   Remaining Time \n",
      "         1           0.2580           0.0070            4.86m\n",
      "         2           0.2483           0.0067            6.74m\n",
      "         3           0.2429           0.0064            6.61m\n",
      "         4           0.2396           0.0059            6.20m\n",
      "         5           0.2301           0.0056            6.36m\n",
      "         6           0.2274           0.0051            6.21m\n",
      "         7           0.2199           0.0049            6.11m\n",
      "         8           0.2145           0.0048            6.27m\n",
      "         9           0.2095           0.0046            6.09m\n",
      "        10           0.2048           0.0042            5.96m\n",
      "        20           0.1748           0.0026            5.52m\n",
      "        30           0.1553           0.0015            5.65m\n",
      "        40           0.1420           0.0009            5.56m\n",
      "        50           0.1324           0.0006            5.49m\n",
      "        60           0.1249           0.0005            5.25m\n",
      "        70           0.1238           0.0003            4.92m\n",
      "        80           0.1186           0.0003            4.59m\n",
      "        90           0.1164           0.0002            4.32m\n",
      "       100           0.1149           0.0001            4.03m\n",
      "       200           0.1033          -0.0000            1.77m\n",
      "       300           0.0932           0.0000            0.00s\n",
      "[CV]  n_estimators=300, max_leaf_nodes=9, max_depth=None, learning_rate=0.03, subsample=0.8, score=0.590959, total= 4.9min\n",
      "[CV] n_estimators=300, max_leaf_nodes=9, max_depth=None, learning_rate=0.03, subsample=0.8 \n"
     ]
    },
    {
     "name": "stderr",
     "output_type": "stream",
     "text": [
      "[Parallel(n_jobs=1)]: Done   3 out of   3 | elapsed: 16.5min remaining:    0.0s\n"
     ]
    },
    {
     "name": "stdout",
     "output_type": "stream",
     "text": [
      "      Iter       Train Loss      OOB Improve   Remaining Time \n",
      "         1           0.2531           0.0067            5.68m\n",
      "         2           0.2444           0.0065            5.77m\n",
      "         3           0.2383           0.0064            5.82m\n",
      "         4           0.2356           0.0058            6.30m\n",
      "         5           0.2271           0.0054            6.19m\n",
      "         6           0.2256           0.0052            6.10m\n",
      "         7           0.2197           0.0048            6.18m\n",
      "         8           0.2121           0.0047            6.12m\n",
      "         9           0.2101           0.0044            6.05m\n",
      "        10           0.2036           0.0041            5.91m\n",
      "        20           0.1752           0.0025            5.14m\n",
      "        30           0.1554           0.0015            5.03m\n",
      "        40           0.1435           0.0009            4.59m\n",
      "        50           0.1342           0.0007            4.32m\n",
      "        60           0.1263           0.0004            4.06m\n",
      "        70           0.1258           0.0003            3.83m\n",
      "        80           0.1185           0.0002            3.60m\n",
      "        90           0.1190           0.0002            3.50m\n",
      "       100           0.1170           0.0001            3.37m\n",
      "       200           0.1054          -0.0000            1.66m\n",
      "       300           0.0964          -0.0000            0.00s\n",
      "[CV]  n_estimators=300, max_leaf_nodes=9, max_depth=None, learning_rate=0.03, subsample=0.8, score=0.644497, total= 4.9min\n",
      "[CV] n_estimators=300, max_leaf_nodes=9, max_depth=None, learning_rate=0.03, subsample=0.8 \n"
     ]
    },
    {
     "name": "stderr",
     "output_type": "stream",
     "text": [
      "[Parallel(n_jobs=1)]: Done   4 out of   4 | elapsed: 21.5min remaining:    0.0s\n"
     ]
    },
    {
     "name": "stdout",
     "output_type": "stream",
     "text": [
      "      Iter       Train Loss      OOB Improve   Remaining Time \n",
      "         1           0.2436           0.0065            8.90m\n",
      "         2           0.2346           0.0065            7.08m\n",
      "         3           0.2253           0.0065            6.94m\n",
      "         4           0.2241           0.0059            6.86m\n",
      "         5           0.2149           0.0054            7.38m\n",
      "         6           0.2162           0.0051            7.76m\n",
      "         7           0.2086           0.0048            7.58m\n",
      "         8           0.2032           0.0047            7.44m\n",
      "         9           0.1997           0.0044            7.75m\n",
      "        10           0.1950           0.0039            7.92m\n",
      "        20           0.1655           0.0025            6.53m\n",
      "        30           0.1446           0.0015            6.07m\n",
      "        40           0.1336           0.0009            5.67m\n",
      "        50           0.1250           0.0007            5.15m\n",
      "        60           0.1183           0.0004            4.93m\n",
      "        70           0.1147           0.0004            4.61m\n",
      "        80           0.1108           0.0002            4.42m\n",
      "        90           0.1103           0.0001            4.11m\n",
      "       100           0.1073           0.0001            3.90m\n",
      "       200           0.0969          -0.0000            1.73m\n",
      "       300           0.0876          -0.0000            0.00s\n",
      "[CV]  n_estimators=300, max_leaf_nodes=9, max_depth=None, learning_rate=0.03, subsample=0.8, score=0.559669, total= 4.8min\n"
     ]
    },
    {
     "name": "stderr",
     "output_type": "stream",
     "text": [
      "[Parallel(n_jobs=1)]: Done   5 out of   5 | elapsed: 26.3min finished\n"
     ]
    },
    {
     "name": "stdout",
     "output_type": "stream",
     "text": [
      "      Iter       Train Loss      OOB Improve   Remaining Time \n",
      "         1           0.2537           0.0067            7.04m\n",
      "         2           0.2460           0.0063            6.84m\n",
      "         3           0.2381           0.0063            6.78m\n",
      "         4           0.2355           0.0057            6.73m\n",
      "         5           0.2284           0.0056            6.65m\n",
      "         6           0.2226           0.0053            6.64m\n",
      "         7           0.2176           0.0049            6.68m\n",
      "         8           0.2138           0.0048            6.67m\n",
      "         9           0.2084           0.0045            6.62m\n",
      "        10           0.2043           0.0043            6.59m\n",
      "        20           0.1720           0.0024            6.62m\n",
      "        30           0.1535           0.0015            6.75m\n",
      "        40           0.1407           0.0010            6.34m\n",
      "        50           0.1336           0.0007            6.04m\n",
      "        60           0.1280           0.0005            5.72m\n",
      "        70           0.1233           0.0003            5.53m\n",
      "        80           0.1180           0.0003            5.26m\n",
      "        90           0.1156           0.0002            5.07m\n",
      "       100           0.1128           0.0001            4.77m\n",
      "       200           0.1019           0.0000            2.34m\n",
      "       300           0.0957           0.0000            0.00s\n"
     ]
    },
    {
     "data": {
      "text/plain": [
       "GridSearchCV(cv=5, error_score='raise',\n",
       "       estimator=GradientBoostingRegressor(alpha=0.9, criterion='friedman_mse', init=None,\n",
       "             learning_rate=0.1, loss='ls', max_depth=3, max_features=None,\n",
       "             max_leaf_nodes=None, min_impurity_split=1e-07,\n",
       "             min_samples_leaf=1, min_samples_split=2,\n",
       "             min_weight_fraction_leaf=0.0, n_estimators=100,\n",
       "             presort='auto', random_state=7, subsample=1.0, verbose=1,\n",
       "             warm_start=False),\n",
       "       fit_params={}, iid=True, n_jobs=1,\n",
       "       param_grid={'max_leaf_nodes': [9], 'n_estimators': [300], 'subsample': [0.8], 'learning_rate': [0.03], 'max_depth': [None]},\n",
       "       pre_dispatch='2*n_jobs', refit=True, return_train_score=True,\n",
       "       scoring=None, verbose=5)"
      ]
     },
     "execution_count": 37,
     "metadata": {},
     "output_type": "execute_result"
    }
   ],
   "source": [
    "GBRT_params={\n",
    "    'learning_rate': [0.03],\n",
    "    'n_estimators': [300],\n",
    "    'subsample': [0.8],\n",
    "    'max_depth': [None],\n",
    "    'max_leaf_nodes': [9]\n",
    "    \n",
    "}\n",
    "\n",
    "cv=GridSearchCV(clf, GBRT_params, cv=5, verbose=5)\n",
    "cv.fit(train_std[f_index], target)"
   ]
  },
  {
   "cell_type": "code",
   "execution_count": 38,
   "metadata": {
    "collapsed": false
   },
   "outputs": [
    {
     "data": {
      "text/plain": [
       "{'mean_fit_time': array([ 313.22879701]),\n",
       " 'mean_score_time': array([ 0.38837142]),\n",
       " 'mean_test_score': array([ 0.57250171]),\n",
       " 'mean_train_score': array([ 0.6376275]),\n",
       " 'param_learning_rate': masked_array(data = [0.03],\n",
       "              mask = [False],\n",
       "        fill_value = ?),\n",
       " 'param_max_depth': masked_array(data = [None],\n",
       "              mask = [False],\n",
       "        fill_value = ?),\n",
       " 'param_max_leaf_nodes': masked_array(data = [9],\n",
       "              mask = [False],\n",
       "        fill_value = ?),\n",
       " 'param_n_estimators': masked_array(data = [300],\n",
       "              mask = [False],\n",
       "        fill_value = ?),\n",
       " 'param_subsample': masked_array(data = [0.8],\n",
       "              mask = [False],\n",
       "        fill_value = ?),\n",
       " 'params': ({'learning_rate': 0.03,\n",
       "   'max_depth': None,\n",
       "   'max_leaf_nodes': 9,\n",
       "   'n_estimators': 300,\n",
       "   'subsample': 0.8},),\n",
       " 'rank_test_score': array([1], dtype=int32),\n",
       " 'split0_test_score': array([ 0.44259082]),\n",
       " 'split0_train_score': array([ 0.6615174]),\n",
       " 'split1_test_score': array([ 0.624792]),\n",
       " 'split1_train_score': array([ 0.62791305]),\n",
       " 'split2_test_score': array([ 0.59095937]),\n",
       " 'split2_train_score': array([ 0.63606657]),\n",
       " 'split3_test_score': array([ 0.64449737]),\n",
       " 'split3_train_score': array([ 0.62172411]),\n",
       " 'split4_test_score': array([ 0.55966901]),\n",
       " 'split4_train_score': array([ 0.64091637]),\n",
       " 'std_fit_time': array([ 28.22472683]),\n",
       " 'std_score_time': array([ 0.06957175]),\n",
       " 'std_test_score': array([ 0.07113347]),\n",
       " 'std_train_score': array([ 0.01364748])}"
      ]
     },
     "execution_count": 38,
     "metadata": {},
     "output_type": "execute_result"
    }
   ],
   "source": [
    "cv.cv_results_"
   ]
  },
  {
   "cell_type": "code",
   "execution_count": 42,
   "metadata": {
    "collapsed": false
   },
   "outputs": [
    {
     "data": {
      "text/plain": [
       "(array([   85.,   406.,  1468.,  2687.,  1796.,   847.,   240.,    87.,\n",
       "           36.,    10.]),\n",
       " array([ 14.62562779,  14.9167267 ,  15.20782561,  15.49892453,\n",
       "         15.79002344,  16.08112235,  16.37222127,  16.66332018,\n",
       "         16.9544191 ,  17.24551801,  17.53661692]),\n",
       " <a list of 10 Patch objects>)"
      ]
     },
     "execution_count": 42,
     "metadata": {},
     "output_type": "execute_result"
    },
    {
     "data": {
      "image/png": "[encoded data removed]",
      "text/plain": [
       "<matplotlib.figure.Figure at 0x7f97df43e668>"
      ]
     },
     "metadata": {},
     "output_type": "display_data"
    }
   ],
   "source": [
    "pre_GBRT=cv.predict(test_std[f_index])\n",
    "plt.hist(pre_GBRT)"
   ]
  },
  {
   "cell_type": "code",
   "execution_count": 43,
   "metadata": {
    "collapsed": false
   },
   "outputs": [
    {
     "data": {
      "text/html": [
       "<div>\n",
       "<table border=\"1\" class=\"dataframe\">\n",
       "  <thead>\n",
       "    <tr style=\"text-align: right;\">\n",
       "      <th></th>\n",
       "      <th>id</th>\n",
       "      <th>price_doc</th>\n",
       "    </tr>\n",
       "  </thead>\n",
       "  <tbody>\n",
       "    <tr>\n",
       "      <th>0</th>\n",
       "      <td>30474</td>\n",
       "      <td>5491523.286355</td>\n",
       "    </tr>\n",
       "    <tr>\n",
       "      <th>1</th>\n",
       "      <td>30475</td>\n",
       "      <td>8162187.659420</td>\n",
       "    </tr>\n",
       "    <tr>\n",
       "      <th>2</th>\n",
       "      <td>30476</td>\n",
       "      <td>5791887.366958</td>\n",
       "    </tr>\n",
       "    <tr>\n",
       "      <th>3</th>\n",
       "      <td>30477</td>\n",
       "      <td>5699392.888169</td>\n",
       "    </tr>\n",
       "    <tr>\n",
       "      <th>4</th>\n",
       "      <td>30478</td>\n",
       "      <td>5034656.119083</td>\n",
       "    </tr>\n",
       "  </tbody>\n",
       "</table>\n",
       "</div>"
      ],
      "text/plain": [
       "      id       price_doc\n",
       "0  30474  5491523.286355\n",
       "1  30475  8162187.659420\n",
       "2  30476  5791887.366958\n",
       "3  30477  5699392.888169\n",
       "4  30478  5034656.119083"
      ]
     },
     "execution_count": 43,
     "metadata": {},
     "output_type": "execute_result"
    }
   ],
   "source": [
    "pre_GBRT=np.exp(pre_GBRT)-1\n",
    "\n",
    "submission=pd.DataFrame({'id': test_id, 'price_doc': pre_GBRT})\n",
    "submission.to_csv(path_or_buf='170521submission_GBRT_with_12features_macro_xgbimportance0.01_maxnodes_9_nestima_300_eta_0.03.csv',index=False)\n",
    "submission.head()"
   ]
  },
  {
   "cell_type": "code",
   "execution_count": 56,
   "metadata": {
    "collapsed": false
   },
   "outputs": [
    {
     "data": {
      "text/html": [
       "<div>\n",
       "<table border=\"1\" class=\"dataframe\">\n",
       "  <thead>\n",
       "    <tr style=\"text-align: right;\">\n",
       "      <th></th>\n",
       "      <th>id</th>\n",
       "      <th>price_doc</th>\n",
       "    </tr>\n",
       "  </thead>\n",
       "  <tbody>\n",
       "    <tr>\n",
       "      <th>0</th>\n",
       "      <td>30474</td>\n",
       "      <td>5602817.893177</td>\n",
       "    </tr>\n",
       "    <tr>\n",
       "      <th>1</th>\n",
       "      <td>30475</td>\n",
       "      <td>8554147.329710</td>\n",
       "    </tr>\n",
       "    <tr>\n",
       "      <th>2</th>\n",
       "      <td>30476</td>\n",
       "      <td>5604879.433479</td>\n",
       "    </tr>\n",
       "    <tr>\n",
       "      <th>3</th>\n",
       "      <td>30477</td>\n",
       "      <td>5923494.194085</td>\n",
       "    </tr>\n",
       "    <tr>\n",
       "      <th>4</th>\n",
       "      <td>30478</td>\n",
       "      <td>5165381.809541</td>\n",
       "    </tr>\n",
       "  </tbody>\n",
       "</table>\n",
       "</div>"
      ],
      "text/plain": [
       "      id       price_doc\n",
       "0  30474  5602817.893177\n",
       "1  30475  8554147.329710\n",
       "2  30476  5604879.433479\n",
       "3  30477  5923494.194085\n",
       "4  30478  5165381.809541"
      ]
     },
     "execution_count": 56,
     "metadata": {},
     "output_type": "execute_result"
    }
   ],
   "source": [
    "#average the xgboost results and GBRT results\n",
    "pre_ave=(pre_xgb+pre_GBRT)/2\n",
    "\n",
    "submission=pd.DataFrame({'id': test_id, 'price_doc': pre_ave})\n",
    "submission.to_csv(path_or_buf='170521submission_GBRT_xgb_ave_with_12features_macro_xgbimportance0.01.csv',index=False)\n",
    "submission.head()"
   ]
  },
  {
   "cell_type": "code",
   "execution_count": null,
   "metadata": {
    "collapsed": true
   },
   "outputs": [],
   "source": []
  }
 ],
 "metadata": {
  "anaconda-cloud": {},
  "kernelspec": {
   "display_name": "Python [Root]",
   "language": "python",
   "name": "Python [Root]"
  },
  "language_info": {
   "codemirror_mode": {
    "name": "ipython",
    "version": 3
   },
   "file_extension": ".py",
   "mimetype": "text/x-python",
   "name": "python",
   "nbconvert_exporter": "python",
   "pygments_lexer": "ipython3",
   "version": "3.5.2"
  }
 },
 "nbformat": 4,
 "nbformat_minor": 0
}
