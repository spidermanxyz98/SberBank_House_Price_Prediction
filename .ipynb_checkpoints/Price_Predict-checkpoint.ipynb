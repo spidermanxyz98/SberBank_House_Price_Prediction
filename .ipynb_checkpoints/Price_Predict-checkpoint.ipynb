{
 "cells": [
  {
   "cell_type": "code",
   "execution_count": null,
   "metadata": {
    "collapsed": true
   },
   "outputs": [],
   "source": [
    "import pandas as pd\n",
    "import numpy as np\n",
    "import matplotlib.pyplot as plt\n",
    "import seaborn as sns\n",
    "from sklearn.preprocessing import StandardScaler\n",
    "\n",
    "random_state=7\n",
    "\n",
    "%matplotlib inline\n",
    "pd.set_option('display.max_columns', 500)"
   ]
  },
  {
   "cell_type": "markdown",
   "metadata": {},
   "source": [
    "# Reading Data"
   ]
  },
  {
   "cell_type": "code",
   "execution_count": null,
   "metadata": {
    "collapsed": false
   },
   "outputs": [],
   "source": [
    "train=pd.read_csv('input/train.csv', parse_dates=['timestamp'])\n",
    "test=pd.read_csv('input/test.csv', parse_dates=['timestamp'])\n",
    "macro=pd.read_csv('input/macro.csv', parse_dates=['timestamp'])\n",
    "\n",
    "test_id=test['id']\n",
    "\n",
    "print('The shape of training data is', train.shape)\n",
    "print('The shape of test data is', test.shape)\n",
    "print('The shape of macro data is', macro.shape)\n",
    "\n",
    "#number of training and test examples\n",
    "n_train=train.shape[0]\n",
    "n_test=test.shape[0]\n",
    "\n",
    "\n",
    "#fts contains the feature names (exclude id and year)\n",
    "fts=list(train.columns[1:-1])\n",
    "target=train['price_doc']\n",
    "\n",
    "plt.hist(np.log(1+target))\n",
    "target=np.log(1+target)"
   ]
  },
  {
   "cell_type": "markdown",
   "metadata": {},
   "source": [
    "# Combine train and test and Change Categorical Data to Dummies"
   ]
  },
  {
   "cell_type": "code",
   "execution_count": null,
   "metadata": {
    "collapsed": false
   },
   "outputs": [],
   "source": [
    "#concatenate training and test\n",
    "raw_data=pd.concat([train.loc[:,fts[0]:fts[-1]], test.loc[:, fts[0]:fts[-1]]])\n",
    "print('shape of train plus test', raw_data.shape)\n",
    "\n",
    "macro_dtypes=macro.dtypes\n",
    "print(macro_dtypes[macro_dtypes=='object'])"
   ]
  },
  {
   "cell_type": "code",
   "execution_count": null,
   "metadata": {
    "collapsed": false
   },
   "outputs": [],
   "source": [
    "print('child_on_acc_pre_school',macro['child_on_acc_pre_school'].unique())\n",
    "print('modern_education_share', macro['modern_education_share'].unique())\n",
    "print('old_education_build_share', macro['old_education_build_share'].unique())\n",
    "# all these values doesn't make sense to me. drop them before doing PCA\n",
    "\n",
    "print('shape of macro data frame', macro.shape)\n",
    "macro=macro.drop(['child_on_acc_pre_school', 'modern_education_share',\n",
    "                 'old_education_build_share'], axis=1)\n",
    "print('shpe of macro afeter dropping', macro.shape)"
   ]
  },
  {
   "cell_type": "code",
   "execution_count": null,
   "metadata": {
    "collapsed": false
   },
   "outputs": [],
   "source": [
    "time_stamp=macro['timestamp']\n",
    "macro=macro.drop('timestamp', axis=1)\n",
    "print('shape of macro', macro.shape)\n",
    "\n",
    "print('number of nas in macro', macro.isnull().sum().sum())\n",
    "macro=macro.fillna(macro.median())\n",
    "print('number of nas in macro', macro.isnull().sum().sum())\n",
    "\n",
    "ss=StandardScaler()\n",
    "macro_std=ss.fit_transform(macro)"
   ]
  },
  {
   "cell_type": "code",
   "execution_count": null,
   "metadata": {
    "collapsed": false
   },
   "outputs": [],
   "source": [
    "# do PCA on macro data\n",
    "from sklearn.decomposition import PCA\n",
    "n_components=30\n",
    "pca=PCA(n_components=n_components)\n",
    "macro_pca=pca.fit_transform(macro_std)\n",
    "print('explained_variance_ratio', pca.explained_variance_ratio_.sum())"
   ]
  },
  {
   "cell_type": "code",
   "execution_count": null,
   "metadata": {
    "collapsed": false
   },
   "outputs": [],
   "source": [
    "macro_pca=pd.DataFrame(macro_pca)\n",
    "macro_pca['timestamp']=time_stamp\n",
    "macro_pca.head()"
   ]
  },
  {
   "cell_type": "code",
   "execution_count": null,
   "metadata": {
    "collapsed": false
   },
   "outputs": [],
   "source": [
    "#join the macro data\n",
    "raw_data=pd.merge(raw_data, macro_pca, how='left', on='timestamp')\n",
    "print('shape of the merged data', raw_data.shape)"
   ]
  },
  {
   "cell_type": "code",
   "execution_count": null,
   "metadata": {
    "collapsed": false
   },
   "outputs": [],
   "source": [
    "data=pd.get_dummies(raw_data)\n",
    "print('shape after get_dummies', data.shape)\n",
    "\n",
    "#change timestamp to year\n",
    "data['timestamp']=data['timestamp'].dt.year.astype(int)"
   ]
  },
  {
   "cell_type": "markdown",
   "metadata": {},
   "source": [
    "# Fill NaN with median values"
   ]
  },
  {
   "cell_type": "code",
   "execution_count": null,
   "metadata": {
    "collapsed": false
   },
   "outputs": [],
   "source": [
    "#when using get_dummies the Nan in categorical data are ignored. The possible Nan are numbers. fill them with mean\n",
    "print('number of NaN in train and test', data.isnull().sum().sum())\n",
    "\n",
    "data=data.fillna(data.median())\n",
    "\n",
    "print('number of NaN in train and test', data.isnull().sum().sum())"
   ]
  },
  {
   "cell_type": "markdown",
   "metadata": {
    "collapsed": true
   },
   "source": [
    "# Try standardscaler before fitting"
   ]
  },
  {
   "cell_type": "code",
   "execution_count": null,
   "metadata": {
    "collapsed": false
   },
   "outputs": [],
   "source": [
    "from sklearn.preprocessing import StandardScaler\n",
    "ss=StandardScaler(with_mean=False, with_std=True)\n",
    "data_std=ss.fit_transform(data)\n",
    "data_std=pd.DataFrame(data_std)\n",
    "\n",
    "train_std=data_std.iloc[:n_train, :]\n",
    "test_std=data_std.iloc[n_train :, :]"
   ]
  },
  {
   "cell_type": "markdown",
   "metadata": {
    "collapsed": true
   },
   "source": [
    "# Random Forest"
   ]
  },
  {
   "cell_type": "code",
   "execution_count": null,
   "metadata": {
    "collapsed": false
   },
   "outputs": [],
   "source": [
    "from sklearn.ensemble import RandomForestRegressor\n",
    "from sklearn.model_selection import GridSearchCV\n",
    "\n",
    "clf1=RandomForestRegressor(n_estimators=500, random_state=random_state)\n",
    "clf1.fit(train_std, target)"
   ]
  },
  {
   "cell_type": "code",
   "execution_count": null,
   "metadata": {
    "collapsed": false
   },
   "outputs": [],
   "source": [
    "pre_rf=clf1.predict(test_std)\n",
    "pre_rf=np.exp(pre_rf)\n",
    "\n",
    "test_id=np.array(test_id)\n",
    "submission=pd.DataFrame({'id': test_id, 'price_doc': pre_rf})\n",
    "submission.to_csv(path_or_buf='170517submission_randomforest_with_macro_data.csv',index=False)"
   ]
  },
  {
   "cell_type": "code",
   "execution_count": null,
   "metadata": {
    "collapsed": false
   },
   "outputs": [],
   "source": [
    "submission.head()"
   ]
  },
  {
   "cell_type": "markdown",
   "metadata": {},
   "source": [
    "# XGBOOST"
   ]
  },
  {
   "cell_type": "code",
   "execution_count": null,
   "metadata": {
    "collapsed": false
   },
   "outputs": [],
   "source": [
    "import xgboost as xgb"
   ]
  },
  {
   "cell_type": "code",
   "execution_count": null,
   "metadata": {
    "collapsed": false
   },
   "outputs": [],
   "source": [
    "from sklearn.model_selection import train_test_split\n",
    "train_part, val_train, target_part, val_target=train_test_split(train_std, target, test_size=0.2, \n",
    "                                                              random_state=random_state)\n",
    "print('shape of train_part', train_part.shape)\n",
    "print('shape of target_part', target_part.shape)\n",
    "print('shape of val_train', val_train.shape)\n",
    "print('shape of val_target', val_target.shape)"
   ]
  },
  {
   "cell_type": "code",
   "execution_count": null,
   "metadata": {
    "collapsed": false
   },
   "outputs": [],
   "source": [
    "dtrain=xgb.DMatrix(train_part, target_part)\n",
    "dval=xgb.DMatrix(val_train, val_target)\n",
    "dtest=xgb.DMatrix(test_std)\n",
    "\n",
    "xgb_params = {\n",
    "    'eta': 0.5,\n",
    "    'max_depth': 6,\n",
    "    'subsample': 1,\n",
    "    'colsample_bytree': 1,\n",
    "    'objective': 'reg:linear',\n",
    "    'eval_metric': 'rmse',\n",
    "    'silent': 0\n",
    "}\n",
    "\n",
    "model=xgb.train(xgb_params, dtrain, num_boost_round=1300, \n",
    "                evals=[(dval, 'validation')], early_stopping_rounds=20,\n",
    "               verbose_eval=20)\n",
    "num_boost_round=model.best_iteration"
   ]
  },
  {
   "cell_type": "code",
   "execution_count": null,
   "metadata": {
    "collapsed": false
   },
   "outputs": [],
   "source": [
    "Ddata_std=xgb.DMatrix(train_std, target)"
   ]
  },
  {
   "cell_type": "code",
   "execution_count": null,
   "metadata": {
    "collapsed": false
   },
   "outputs": [],
   "source": [
    "#use xgb.cv to do cross validation\n",
    "#xgb.cv(xgb_params, Ddata_std, num_boost_round=20, \n",
    "#       nfold=5, verbose_eval=5)"
   ]
  },
  {
   "cell_type": "code",
   "execution_count": null,
   "metadata": {
    "collapsed": true
   },
   "outputs": [],
   "source": [
    "full_model=xgb.train(xgb_params, Ddata_std, num_boost_round=num_boost_round)"
   ]
  },
  {
   "cell_type": "code",
   "execution_count": null,
   "metadata": {
    "collapsed": false
   },
   "outputs": [],
   "source": [
    "pre_xgb=full_model.predict(dtest)\n",
    "\n",
    "plt.hist(pre_xgb)"
   ]
  },
  {
   "cell_type": "code",
   "execution_count": null,
   "metadata": {
    "collapsed": false
   },
   "outputs": [],
   "source": [
    "pre_xgb=np.exp(pre_xgb)\n",
    "\n",
    "submission=pd.DataFrame({'id': test_id, 'price_doc': pre_xgb})\n",
    "submission.to_csv(path_or_buf='170518submission_xgb_with_30PCA_macr0.csv',index=False)\n",
    "submission.head()"
   ]
  },
  {
   "cell_type": "code",
   "execution_count": null,
   "metadata": {
    "collapsed": true
   },
   "outputs": [],
   "source": []
  }
 ],
 "metadata": {
  "anaconda-cloud": {},
  "kernelspec": {
   "display_name": "Python [Root]",
   "language": "python",
   "name": "Python [Root]"
  },
  "language_info": {
   "codemirror_mode": {
    "name": "ipython",
    "version": 3
   },
   "file_extension": ".py",
   "mimetype": "text/x-python",
   "name": "python",
   "nbconvert_exporter": "python",
   "pygments_lexer": "ipython3",
   "version": "3.5.2"
  }
 },
 "nbformat": 4,
 "nbformat_minor": 0
}
