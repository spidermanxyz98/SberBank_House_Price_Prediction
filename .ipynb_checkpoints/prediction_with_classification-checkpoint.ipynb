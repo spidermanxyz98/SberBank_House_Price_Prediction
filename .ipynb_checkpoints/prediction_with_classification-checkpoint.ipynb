{
 "cells": [
  {
   "cell_type": "code",
   "execution_count": 1,
   "metadata": {
    "collapsed": true
   },
   "outputs": [],
   "source": [
    "import numpy as np\n",
    "import pandas as pd\n",
    "\n",
    "import matplotlib.pyplot as plt\n",
    "%matplotlib inline\n",
    "import seaborn as sns\n",
    "\n",
    "\n",
    "from sklearn.preprocessing import LabelEncoder\n",
    "\n",
    "\n",
    "from sklearn.model_selection import train_test_split,GridSearchCV,RandomizedSearchCV\n",
    "from sklearn.metrics import  mean_squared_error, roc_auc_score,accuracy_score\n",
    "from sklearn.ensemble import GradientBoostingRegressor,GradientBoostingClassifier\n",
    "\n",
    "from pylab import rcParams\n",
    "\n",
    "rcParams['figure.figsize'] = 10, 10\n",
    "color = sns.color_palette()"
   ]
  },
  {
   "cell_type": "code",
   "execution_count": 4,
   "metadata": {
    "collapsed": false
   },
   "outputs": [
    {
     "name": "stdout",
     "output_type": "stream",
     "text": [
      "train_df shape: (30471, 292)\n",
      "test_df shape: (7662, 291)\n"
     ]
    }
   ],
   "source": [
    "train_df = pd.read_csv(\"input/train.csv\")\n",
    "test_df = pd.read_csv(\"input/test.csv\")\n",
    "\n",
    "id_test = test_df.id\n",
    "\n",
    "#sprawdzam ile rekordow i atrybutow\n",
    "print('train_df shape:',train_df.shape)\n",
    "print('test_df shape:',test_df.shape)"
   ]
  },
  {
   "cell_type": "code",
   "execution_count": 5,
   "metadata": {
    "collapsed": false
   },
   "outputs": [
    {
     "name": "stdout",
     "output_type": "stream",
     "text": [
      "Variables data type:\n"
     ]
    },
    {
     "data": {
      "text/html": [
       "<div>\n",
       "<table border=\"1\" class=\"dataframe\">\n",
       "  <thead>\n",
       "    <tr style=\"text-align: right;\">\n",
       "      <th></th>\n",
       "      <th>Column Type</th>\n",
       "      <th>Count</th>\n",
       "    </tr>\n",
       "  </thead>\n",
       "  <tbody>\n",
       "    <tr>\n",
       "      <th>0</th>\n",
       "      <td>int64</td>\n",
       "      <td>157</td>\n",
       "    </tr>\n",
       "    <tr>\n",
       "      <th>1</th>\n",
       "      <td>float64</td>\n",
       "      <td>119</td>\n",
       "    </tr>\n",
       "    <tr>\n",
       "      <th>2</th>\n",
       "      <td>object</td>\n",
       "      <td>16</td>\n",
       "    </tr>\n",
       "  </tbody>\n",
       "</table>\n",
       "</div>"
      ],
      "text/plain": [
       "  Column Type  Count\n",
       "0       int64    157\n",
       "1     float64    119\n",
       "2      object     16"
      ]
     },
     "execution_count": 5,
     "metadata": {},
     "output_type": "execute_result"
    }
   ],
   "source": [
    "dtype_df = train_df.dtypes.reset_index()\n",
    "dtype_df.columns = [\"Count\", \"Column Type\"]\n",
    "print('Variables data type:')\n",
    "dtype_df.groupby(\"Column Type\").aggregate('count').reset_index()"
   ]
  },
  {
   "cell_type": "code",
   "execution_count": 6,
   "metadata": {
    "collapsed": false
   },
   "outputs": [
    {
     "name": "stdout",
     "output_type": "stream",
     "text": [
      "10089    10092\n",
      "Name: id, dtype: int64\n",
      "10089    10092\n",
      "Name: id, dtype: int64\n",
      "build_year: nan\n",
      "state: 1.0\n"
     ]
    }
   ],
   "source": [
    "print(train_df.loc[train_df['build_year'] == 20052009].id)\n",
    "print(train_df.loc[train_df['state'] == 33].id)\n",
    "print('build_year:',train_df.ix[10090].build_year)\n",
    "print('state:',train_df.ix[10090].state)\n",
    "\n",
    "train_df.loc[train_df['id'] == 10092, 'build_year'] = 2007\n",
    "train_df.loc[train_df['id'] == 10092, 'state'] = 3\n",
    "train_df.loc[train_df['id'] == 10093, 'build_year'] = 2009"
   ]
  },
  {
   "cell_type": "code",
   "execution_count": 7,
   "metadata": {
    "collapsed": true
   },
   "outputs": [],
   "source": [
    "for f in train_df.columns:\n",
    "    if train_df[f].dtype=='object':\n",
    "        lbl = LabelEncoder()\n",
    "        lbl.fit(list(train_df[f].values)) \n",
    "        train_df[f] = lbl.transform(list(train_df[f].values))\n",
    "        \n",
    "for c in test_df.columns:\n",
    "    if test_df[c].dtype == 'object':\n",
    "        lbl = LabelEncoder()\n",
    "        lbl.fit(list(test_df[c].values)) \n",
    "        test_df[c] = lbl.transform(list(test_df[c].values))"
   ]
  },
  {
   "cell_type": "code",
   "execution_count": 9,
   "metadata": {
    "collapsed": false
   },
   "outputs": [],
   "source": [
    "kitch_ratio = train_df['full_sq']/train_df['kitch_sq']\n",
    "train_df['kitch_sq']=train_df['kitch_sq'].fillna(train_df['full_sq'] /kitch_ratio.median())\n",
    "test_df['kitch_sq']=test_df['kitch_sq'].fillna(test_df['full_sq'] /kitch_ratio.median())\n",
    "\n",
    "lifesq_ratio = train_df['full_sq']/train_df['life_sq']\n",
    "train_df['life_sq']=train_df['life_sq'].fillna(train_df['full_sq'] /lifesq_ratio.median())\n",
    "test_df['life_sq']=test_df['life_sq'].fillna(test_df['full_sq'] /lifesq_ratio.median())\n",
    "\n",
    "train_df=train_df.fillna(train_df.median(),inplace=True)\n",
    "test_df=test_df.fillna(test_df.median(),inplace=True)\n"
   ]
  },
  {
   "cell_type": "code",
   "execution_count": 11,
   "metadata": {
    "collapsed": false
   },
   "outputs": [
    {
     "data": {
      "text/plain": [
       "<matplotlib.text.Text at 0x7f8804fc0518>"
      ]
     },
     "execution_count": 11,
     "metadata": {},
     "output_type": "execute_result"
    },
    {
     "data": {
      "image/png": "[encoded data removed]",
      "text/plain": [
       "<matplotlib.figure.Figure at 0x7f88059d76d8>"
      ]
     },
     "metadata": {},
     "output_type": "display_data"
    }
   ],
   "source": [
    "sns.distplot(train_df.price_doc.values, kde=None)\n",
    "plt.xlabel('price')\n"
   ]
  },
  {
   "cell_type": "code",
   "execution_count": 12,
   "metadata": {
    "collapsed": false
   },
   "outputs": [
    {
     "data": {
      "image/png": "[encoded data removed]",
      "text/plain": [
       "<matplotlib.figure.Figure at 0x7f8804f014a8>"
      ]
     },
     "metadata": {},
     "output_type": "display_data"
    }
   ],
   "source": [
    "ulimit = np.percentile(train_df.price_doc.values, 99)\n",
    "llimit = np.percentile(train_df.price_doc.values, 1)\n",
    "train_df.loc[train_df['price_doc'] >ulimit, 'price_doc'] = ulimit\n",
    "train_df.loc[train_df['price_doc'] <llimit, 'price_doc'] = llimit\n",
    "\n",
    "sns.distplot(np.log(train_df.price_doc.values),  bins=50,kde=None)\n",
    "plt.xlabel('price')\n",
    "\n",
    "train_df['price_doc_log'] = np.log1p(train_df['price_doc'])"
   ]
  },
  {
   "cell_type": "code",
   "execution_count": 13,
   "metadata": {
    "collapsed": false
   },
   "outputs": [
    {
     "name": "stdout",
     "output_type": "stream",
     "text": [
      "1000000.0     980\n",
      "2000000.0     757\n",
      "6000000.0     372\n",
      "3000000.0     332\n",
      "6500000.0     330\n",
      "7000000.0     319\n",
      "5500000.0     309\n",
      "24532075.4    305\n",
      "6300000.0     295\n",
      "5000000.0     294\n",
      "Name: price_doc, dtype: int64\n"
     ]
    }
   ],
   "source": [
    "print(train_df['price_doc'].value_counts().head(10))\n",
    "\n",
    "train_df['label_value'] = 0\n",
    "train_df.loc[train_df['price_doc'] == 1000000, 'label_value'] = 1\n",
    "train_df.loc[train_df['price_doc'] == 2000000, 'label_value'] = 2\n"
   ]
  },
  {
   "cell_type": "code",
   "execution_count": 15,
   "metadata": {
    "collapsed": false
   },
   "outputs": [],
   "source": [
    "clfdata_X = train_df.drop(['id','timestamp','label_value','price_doc_log','price_doc'],axis=1)\n",
    "clfdata_y = train_df['label_value']\n",
    "\n",
    "clfX_train, clfX_test, clfY_train, clfY_test = train_test_split(clfdata_X, clfdata_y, test_size=0.30,random_state=21)\n",
    "\n",
    "GBclf= GradientBoostingClassifier(max_depth=4,min_samples_leaf=2)\n"
   ]
  },
  {
   "cell_type": "code",
   "execution_count": 17,
   "metadata": {
    "collapsed": false
   },
   "outputs": [
    {
     "data": {
      "text/plain": [
       "0.94060380660686937"
      ]
     },
     "execution_count": 17,
     "metadata": {},
     "output_type": "execute_result"
    }
   ],
   "source": [
    "GBclf.fit(clfX_train,clfY_train)\n",
    "GBclf.score(clfX_test,clfY_test)\n"
   ]
  },
  {
   "cell_type": "code",
   "execution_count": null,
   "metadata": {
    "collapsed": false
   },
   "outputs": [],
   "source": [
    "data_X = train_df.drop([\"id\",\"timestamp\",\"price_doc\",\"price_doc_log\",'label_value'],axis=1)\n",
    "data_y = train_df['price_doc_log']\n",
    "\n",
    "\n",
    "GBmodel = GradientBoostingRegressor(min_samples_leaf= 4, learning_rate= 0.1, max_depth= 4)\n",
    "GBmodel.fit(data_X,data_y)\n",
    "\n",
    "sns.distplot(GBmodel.predict(data_X))"
   ]
  },
  {
   "cell_type": "code",
   "execution_count": null,
   "metadata": {
    "collapsed": true
   },
   "outputs": [],
   "source": [
    "predict = GBmodel.predict(test_df.drop([\"id\", \"timestamp\"],axis=1))\n",
    "lab = GBclf.predict(test_df.drop(['id','timestamp'],axis=1))\n",
    "output = pd.DataFrame({'id': id_test, 'price_doc': np.expm1(predict)})\n",
    "output['label'] = lab\n",
    "\n",
    "output.loc[output['label'] == 1, 'price_doc'] = 1000000\n",
    "output.loc[output['label'] == 2, 'price_doc'] = 2000000\n",
    "#output = output.drop(['label'],axis=1)\n",
    "\n",
    "print(output.loc[output['label']==1].shape)\n",
    "print(output.loc[output['label']==2].shape)"
   ]
  }
 ],
 "metadata": {
  "kernelspec": {
   "display_name": "Python [Root]",
   "language": "python",
   "name": "Python [Root]"
  },
  "language_info": {
   "codemirror_mode": {
    "name": "ipython",
    "version": 3
   },
   "file_extension": ".py",
   "mimetype": "text/x-python",
   "name": "python",
   "nbconvert_exporter": "python",
   "pygments_lexer": "ipython3",
   "version": "3.5.2"
  }
 },
 "nbformat": 4,
 "nbformat_minor": 0
}
