{
 "cells": [
  {
   "cell_type": "code",
   "execution_count": 58,
   "metadata": {
    "collapsed": false
   },
   "outputs": [],
   "source": [
    "import pandas as pd\n",
    "import numpy as np\n",
    "from sklearn.linear_model import LinearRegression, Ridge, Lasso, RidgeCV\n",
    "from sklearn.model_selection import GridSearchCV\n",
    "import matplotlib.pyplot as plt\n",
    "import seaborn as sns\n",
    "\n",
    "%matplotlib inline\n",
    "random_state=7"
   ]
  },
  {
   "cell_type": "markdown",
   "metadata": {},
   "source": [
    "# Do simple average"
   ]
  },
  {
   "cell_type": "code",
   "execution_count": 2,
   "metadata": {
    "collapsed": false
   },
   "outputs": [],
   "source": [
    "df_xgb=pd.read_csv('170524submission_xgb_with_12macro_cleandata_0.03impoartance.csv')\n",
    "df_rf=pd.read_csv('170526subission_rf_with_12macro_cleandata_8newfeature.csv')\n",
    "df_GBRT=pd.read_csv('170526submission_GBRT_with_12features_cleandata_macro.csv')"
   ]
  },
  {
   "cell_type": "code",
   "execution_count": 3,
   "metadata": {
    "collapsed": false
   },
   "outputs": [
    {
     "data": {
      "text/html": [
       "<div>\n",
       "<table border=\"1\" class=\"dataframe\">\n",
       "  <thead>\n",
       "    <tr style=\"text-align: right;\">\n",
       "      <th></th>\n",
       "      <th>id</th>\n",
       "      <th>xgb</th>\n",
       "      <th>rf</th>\n",
       "      <th>GBRT</th>\n",
       "      <th>price_doc</th>\n",
       "    </tr>\n",
       "  </thead>\n",
       "  <tbody>\n",
       "    <tr>\n",
       "      <th>0</th>\n",
       "      <td>30474</td>\n",
       "      <td>5669629.0</td>\n",
       "      <td>5184554.115667</td>\n",
       "      <td>5597516.930171</td>\n",
       "      <td>5543769.195202</td>\n",
       "    </tr>\n",
       "    <tr>\n",
       "      <th>1</th>\n",
       "      <td>30475</td>\n",
       "      <td>8847111.0</td>\n",
       "      <td>8196386.083697</td>\n",
       "      <td>8324669.988082</td>\n",
       "      <td>8507989.611972</td>\n",
       "    </tr>\n",
       "    <tr>\n",
       "      <th>2</th>\n",
       "      <td>30476</td>\n",
       "      <td>5341322.0</td>\n",
       "      <td>6021071.018054</td>\n",
       "      <td>5469228.726924</td>\n",
       "      <td>5528434.494380</td>\n",
       "    </tr>\n",
       "    <tr>\n",
       "      <th>3</th>\n",
       "      <td>30477</td>\n",
       "      <td>6159409.0</td>\n",
       "      <td>6280710.929435</td>\n",
       "      <td>5557846.255204</td>\n",
       "      <td>5943044.287969</td>\n",
       "    </tr>\n",
       "    <tr>\n",
       "      <th>4</th>\n",
       "      <td>30478</td>\n",
       "      <td>5343543.5</td>\n",
       "      <td>5097166.473717</td>\n",
       "      <td>5084573.595589</td>\n",
       "      <td>5190680.132979</td>\n",
       "    </tr>\n",
       "  </tbody>\n",
       "</table>\n",
       "</div>"
      ],
      "text/plain": [
       "      id        xgb              rf            GBRT       price_doc\n",
       "0  30474  5669629.0  5184554.115667  5597516.930171  5543769.195202\n",
       "1  30475  8847111.0  8196386.083697  8324669.988082  8507989.611972\n",
       "2  30476  5341322.0  6021071.018054  5469228.726924  5528434.494380\n",
       "3  30477  6159409.0  6280710.929435  5557846.255204  5943044.287969\n",
       "4  30478  5343543.5  5097166.473717  5084573.595589  5190680.132979"
      ]
     },
     "execution_count": 3,
     "metadata": {},
     "output_type": "execute_result"
    }
   ],
   "source": [
    "average=pd.merge(df_xgb, df_rf, how='left', on='id')\n",
    "average=pd.merge(average, df_GBRT, how='left', on='id')\n",
    "average.columns=['id', 'xgb', 'rf', 'GBRT']\n",
    "average['price_doc']=(average.xgb*0.4+average.GBRT*0.4+average.rf*0.2)\n",
    "average.head()"
   ]
  },
  {
   "cell_type": "code",
   "execution_count": 27,
   "metadata": {
    "collapsed": false
   },
   "outputs": [],
   "source": [
    "pre_average=average[['id', 'price_doc']]\n",
    "pre_average.to_csv(path_or_buf='170526submission_0.4xgb_0.4GBRT_0.2rf_with_12features_cleandata_macro.csv',index=False)"
   ]
  },
  {
   "cell_type": "markdown",
   "metadata": {
    "collapsed": true
   },
   "source": [
    "# Linear regression on predictions of different model"
   ]
  },
  {
   "cell_type": "code",
   "execution_count": 59,
   "metadata": {
    "collapsed": false
   },
   "outputs": [
    {
     "data": {
      "text/html": [
       "<div>\n",
       "<table border=\"1\" class=\"dataframe\">\n",
       "  <thead>\n",
       "    <tr style=\"text-align: right;\">\n",
       "      <th></th>\n",
       "      <th>id</th>\n",
       "      <th>price_doc_rf</th>\n",
       "      <th>price_doc_xgb</th>\n",
       "      <th>price_doc_GBRT</th>\n",
       "    </tr>\n",
       "  </thead>\n",
       "  <tbody>\n",
       "    <tr>\n",
       "      <th>0</th>\n",
       "      <td>1</td>\n",
       "      <td>15.500959</td>\n",
       "      <td>15.435124</td>\n",
       "      <td>15.516005</td>\n",
       "    </tr>\n",
       "    <tr>\n",
       "      <th>1</th>\n",
       "      <td>2</td>\n",
       "      <td>15.470848</td>\n",
       "      <td>15.587396</td>\n",
       "      <td>15.502160</td>\n",
       "    </tr>\n",
       "    <tr>\n",
       "      <th>2</th>\n",
       "      <td>3</td>\n",
       "      <td>15.509262</td>\n",
       "      <td>15.385736</td>\n",
       "      <td>15.485489</td>\n",
       "    </tr>\n",
       "    <tr>\n",
       "      <th>3</th>\n",
       "      <td>4</td>\n",
       "      <td>16.208939</td>\n",
       "      <td>16.172138</td>\n",
       "      <td>16.180638</td>\n",
       "    </tr>\n",
       "    <tr>\n",
       "      <th>4</th>\n",
       "      <td>5</td>\n",
       "      <td>16.290999</td>\n",
       "      <td>16.222046</td>\n",
       "      <td>16.345998</td>\n",
       "    </tr>\n",
       "  </tbody>\n",
       "</table>\n",
       "</div>"
      ],
      "text/plain": [
       "   id  price_doc_rf  price_doc_xgb  price_doc_GBRT\n",
       "0   1     15.500959      15.435124       15.516005\n",
       "1   2     15.470848      15.587396       15.502160\n",
       "2   3     15.509262      15.385736       15.485489\n",
       "3   4     16.208939      16.172138       16.180638\n",
       "4   5     16.290999      16.222046       16.345998"
      ]
     },
     "execution_count": 59,
     "metadata": {},
     "output_type": "execute_result"
    }
   ],
   "source": [
    "rf_train=pd.read_csv('ensamble/rf_train_0.01importance.csv')\n",
    "xgb_train=pd.read_csv('ensamble/xgb_train_0.03importance.csv')\n",
    "GBRT_train=pd.read_csv('ensamble/GBRT_train_0.03importance.csv')\n",
    "\n",
    "model_train=pd.merge(rf_train, xgb_train, how='left', on='id')\n",
    "model_train=pd.merge(model_train, GBRT_train, how='left', on='id')\n",
    "\n",
    "model_train['price_doc_rf']=np.log(model_train['price_doc_rf']+1)\n",
    "model_train['price_doc_xgb']=np.log(model_train['price_doc_xgb']+1)\n",
    "model_train['price_doc_GBRT']=np.log(model_train['price_doc_GBRT']+1)\n",
    "model_train.head()"
   ]
  },
  {
   "cell_type": "code",
   "execution_count": 60,
   "metadata": {
    "collapsed": false
   },
   "outputs": [
    {
     "name": "stdout",
     "output_type": "stream",
     "text": [
      "shape of the investment type (17693, 292)\n",
      "num of ind_1m 930\n",
      "num of ind_2m 680\n",
      "num of ind_3m 292\n",
      "29035\n",
      "(29035, 4)\n"
     ]
    }
   ],
   "source": [
    "train=pd.read_csv('input/train.csv', parse_dates=['timestamp'])\n",
    "\n",
    "trainsub=train[train.timestamp<'2015-01-01']\n",
    "trainsub=trainsub[trainsub.product_type=='Investment']\n",
    "print('shape of the investment type', trainsub.shape)\n",
    "\n",
    "ind_1m=trainsub[trainsub.price_doc <= 1000000].index\n",
    "ind_2m=trainsub[trainsub.price_doc == 2000000].index\n",
    "ind_3m=trainsub[trainsub.price_doc==3000000].index\n",
    "\n",
    "print('num of ind_1m', len(ind_1m))\n",
    "print('num of ind_2m', len(ind_2m))\n",
    "print('num of ind_3m', len(ind_3m))\n",
    "\n",
    "train_index=set(train.index.copy())\n",
    "\n",
    "for ind, gap in zip([ind_1m, ind_2m, ind_3m], [10, 3, 2]):\n",
    "    ind_set=set(ind)\n",
    "    ind_set_cut=ind.difference(set(ind[::gap]))\n",
    "    \n",
    "    train_index=train_index.difference(ind_set_cut)\n",
    "    \n",
    "train=train.loc[train_index]\n",
    "\n",
    "target=np.log(train.price_doc+1)\n",
    "\n",
    "print(len(target))\n",
    "print(model_train.shape)"
   ]
  },
  {
   "cell_type": "code",
   "execution_count": 71,
   "metadata": {
    "collapsed": false
   },
   "outputs": [
    {
     "data": {
      "text/html": [
       "<div>\n",
       "<table border=\"1\" class=\"dataframe\">\n",
       "  <thead>\n",
       "    <tr style=\"text-align: right;\">\n",
       "      <th></th>\n",
       "      <th>id</th>\n",
       "      <th>price_doc</th>\n",
       "    </tr>\n",
       "  </thead>\n",
       "  <tbody>\n",
       "    <tr>\n",
       "      <th>559</th>\n",
       "      <td>560</td>\n",
       "      <td>16.128141</td>\n",
       "    </tr>\n",
       "    <tr>\n",
       "      <th>624</th>\n",
       "      <td>625</td>\n",
       "      <td>16.595472</td>\n",
       "    </tr>\n",
       "    <tr>\n",
       "      <th>783</th>\n",
       "      <td>784</td>\n",
       "      <td>16.969772</td>\n",
       "    </tr>\n",
       "    <tr>\n",
       "      <th>824</th>\n",
       "      <td>825</td>\n",
       "      <td>15.989637</td>\n",
       "    </tr>\n",
       "    <tr>\n",
       "      <th>834</th>\n",
       "      <td>835</td>\n",
       "      <td>16.742366</td>\n",
       "    </tr>\n",
       "  </tbody>\n",
       "</table>\n",
       "</div>"
      ],
      "text/plain": [
       "      id  price_doc\n",
       "559  560  16.128141\n",
       "624  625  16.595472\n",
       "783  784  16.969772\n",
       "824  825  15.989637\n",
       "834  835  16.742366"
      ]
     },
     "execution_count": 71,
     "metadata": {},
     "output_type": "execute_result"
    }
   ],
   "source": [
    "target_no_life=train.loc[train.id.isin(id_train_no_life)]\n",
    "target_no_life=target_no_life[['id', 'price_doc']]\n",
    "target_no_life['price_doc']=np.log(target_no_life.price_doc+1)\n",
    "target_no_life.head()"
   ]
  },
  {
   "cell_type": "code",
   "execution_count": 54,
   "metadata": {
    "collapsed": false
   },
   "outputs": [
    {
     "data": {
      "image/png": "[encoded data removed]",
      "text/plain": [
       "<matplotlib.figure.Figure at 0x7f9d98203be0>"
      ]
     },
     "metadata": {},
     "output_type": "display_data"
    }
   ],
   "source": [
    "plt.scatter(target, model_train['price_doc_xgb'], color='r')\n",
    "plt.scatter(target, model_train['price_doc_rf'], color='b')\n",
    "plt.scatter(target, model_train['price_doc_GBRT'], color='g')\n",
    "plt.xlabel('target_price')\n",
    "plt.ylabel('prediction')\n",
    "\n",
    "plt.legend(['xgb', 'rf', 'GBRT'])\n",
    "plt.plot([13, 19], [13, 19], 'k-')\n",
    "\n",
    "plt.savefig('plots/xgb_rf_GBRT_predictions.pdf')"
   ]
  },
  {
   "cell_type": "code",
   "execution_count": 66,
   "metadata": {
    "collapsed": false
   },
   "outputs": [
    {
     "data": {
      "text/html": [
       "<div>\n",
       "<table border=\"1\" class=\"dataframe\">\n",
       "  <thead>\n",
       "    <tr style=\"text-align: right;\">\n",
       "      <th></th>\n",
       "      <th>id</th>\n",
       "      <th>price_doc_rf</th>\n",
       "      <th>price_doc_xgb</th>\n",
       "      <th>price_doc_GBRT</th>\n",
       "    </tr>\n",
       "  </thead>\n",
       "  <tbody>\n",
       "    <tr>\n",
       "      <th>485</th>\n",
       "      <td>560</td>\n",
       "      <td>16.124413</td>\n",
       "      <td>15.994040</td>\n",
       "      <td>15.951946</td>\n",
       "    </tr>\n",
       "    <tr>\n",
       "      <th>542</th>\n",
       "      <td>625</td>\n",
       "      <td>16.565785</td>\n",
       "      <td>16.569607</td>\n",
       "      <td>16.609711</td>\n",
       "    </tr>\n",
       "    <tr>\n",
       "      <th>680</th>\n",
       "      <td>784</td>\n",
       "      <td>17.021648</td>\n",
       "      <td>16.901474</td>\n",
       "      <td>17.036328</td>\n",
       "    </tr>\n",
       "    <tr>\n",
       "      <th>716</th>\n",
       "      <td>825</td>\n",
       "      <td>15.859628</td>\n",
       "      <td>15.914556</td>\n",
       "      <td>15.816949</td>\n",
       "    </tr>\n",
       "    <tr>\n",
       "      <th>725</th>\n",
       "      <td>835</td>\n",
       "      <td>16.228420</td>\n",
       "      <td>16.335972</td>\n",
       "      <td>16.248995</td>\n",
       "    </tr>\n",
       "  </tbody>\n",
       "</table>\n",
       "</div>"
      ],
      "text/plain": [
       "      id  price_doc_rf  price_doc_xgb  price_doc_GBRT\n",
       "485  560     16.124413      15.994040       15.951946\n",
       "542  625     16.565785      16.569607       16.609711\n",
       "680  784     17.021648      16.901474       17.036328\n",
       "716  825     15.859628      15.914556       15.816949\n",
       "725  835     16.228420      16.335972       16.248995"
      ]
     },
     "execution_count": 66,
     "metadata": {},
     "output_type": "execute_result"
    }
   ],
   "source": [
    "%store -r id_train_no_life\n",
    "id_train_no_life\n",
    "model_train.head()\n",
    "\n",
    "train_no_life=model_train.loc[model_train['id'].isin(id_train_no_life)]\n",
    "\n",
    "train_no_life.head()"
   ]
  },
  {
   "cell_type": "code",
   "execution_count": 79,
   "metadata": {
    "collapsed": false
   },
   "outputs": [
    {
     "data": {
      "image/png": "[encoded data removed]",
      "text/plain": [
       "<matplotlib.figure.Figure at 0x7f9dbcff3828>"
      ]
     },
     "metadata": {},
     "output_type": "display_data"
    }
   ],
   "source": [
    "plt.scatter(target_no_life.price_doc, train_no_life.price_doc_xgb)\n",
    "plt.plot([12,19], [12,19], 'k-')\n",
    "plt.xlabel('target_price')\n",
    "plt.ylabel('pricdiction')\n",
    "plt.title('using full model to predict data without life_sq')\n",
    "plt.savefig('plots/full_model_no_life_sq.pdf')"
   ]
  },
  {
   "cell_type": "code",
   "execution_count": 26,
   "metadata": {
    "collapsed": false
   },
   "outputs": [
    {
     "data": {
      "text/plain": [
       "LinearRegression(copy_X=True, fit_intercept=True, n_jobs=1, normalize=False)"
      ]
     },
     "execution_count": 26,
     "metadata": {},
     "output_type": "execute_result"
    }
   ],
   "source": [
    "model_train=model_train[['price_doc_rf', 'price_doc_xgb', 'price_doc_GBRT']]\n",
    "#model_train=np.asarray(model_train)\n",
    "\n",
    "#clf=Ridge()\n",
    "#rd_params={'alpha':[0.1, 1, 10]}\n",
    "\n",
    "#cv=GridSearchCV(clf, rd_params, cv=5, verbose=1)\n",
    "clf=LinearRegression()\n",
    "#clf=Lasso()\n",
    "#cv.fit(model_train, target)\n",
    "clf.fit(model_train, target)"
   ]
  },
  {
   "cell_type": "code",
   "execution_count": 30,
   "metadata": {
    "collapsed": false
   },
   "outputs": [
    {
     "data": {
      "text/html": [
       "<div>\n",
       "<table border=\"1\" class=\"dataframe\">\n",
       "  <thead>\n",
       "    <tr style=\"text-align: right;\">\n",
       "      <th></th>\n",
       "      <th>id</th>\n",
       "      <th>price_doc_rf</th>\n",
       "      <th>price_doc_xgb</th>\n",
       "      <th>price_doc_GBRT</th>\n",
       "    </tr>\n",
       "  </thead>\n",
       "  <tbody>\n",
       "    <tr>\n",
       "      <th>0</th>\n",
       "      <td>30474</td>\n",
       "      <td>5101030.540339</td>\n",
       "      <td>5619100.0</td>\n",
       "      <td>5633902.113439</td>\n",
       "    </tr>\n",
       "    <tr>\n",
       "      <th>1</th>\n",
       "      <td>30475</td>\n",
       "      <td>8362429.300093</td>\n",
       "      <td>8844294.0</td>\n",
       "      <td>8287396.831267</td>\n",
       "    </tr>\n",
       "    <tr>\n",
       "      <th>2</th>\n",
       "      <td>30476</td>\n",
       "      <td>6274865.593472</td>\n",
       "      <td>5284690.0</td>\n",
       "      <td>5465193.683202</td>\n",
       "    </tr>\n",
       "    <tr>\n",
       "      <th>3</th>\n",
       "      <td>30477</td>\n",
       "      <td>6374278.885423</td>\n",
       "      <td>6106908.0</td>\n",
       "      <td>5576789.089920</td>\n",
       "    </tr>\n",
       "    <tr>\n",
       "      <th>4</th>\n",
       "      <td>30478</td>\n",
       "      <td>5145806.001251</td>\n",
       "      <td>5312507.5</td>\n",
       "      <td>5103606.320849</td>\n",
       "    </tr>\n",
       "  </tbody>\n",
       "</table>\n",
       "</div>"
      ],
      "text/plain": [
       "      id    price_doc_rf  price_doc_xgb  price_doc_GBRT\n",
       "0  30474  5101030.540339      5619100.0  5633902.113439\n",
       "1  30475  8362429.300093      8844294.0  8287396.831267\n",
       "2  30476  6274865.593472      5284690.0  5465193.683202\n",
       "3  30477  6374278.885423      6106908.0  5576789.089920\n",
       "4  30478  5145806.001251      5312507.5  5103606.320849"
      ]
     },
     "execution_count": 30,
     "metadata": {},
     "output_type": "execute_result"
    }
   ],
   "source": [
    "rf_test=pd.read_csv('ensamble/170527subission_rf_with_12macro_cleandata_8newfeature_0.01import.csv')\n",
    "xgb_test=pd.read_csv('ensamble/170527subission_xgb_with_12macro_cleandata_8newfeature_0.03import.csv')\n",
    "GBRT_test=pd.read_csv('ensamble/170527submission_GBRT_with_12features_macro_0.03import.csv')\n",
    "\n",
    "model_test=pd.merge(rf_test, xgb_test, how='left', on='id')\n",
    "model_test=pd.merge(model_test, GBRT_test, how='left', on='id')\n",
    "model_test.columns=['id', 'price_doc_rf', 'price_doc_xgb', 'price_doc_GBRT']\n",
    "\n",
    "# model_test['price_doc_rf']=np.log(model_test['price_doc_rf']+1)\n",
    "# model_test['price_doc_xgb']=np.log(model_test['price_doc_xgb']+1)\n",
    "# model_test['price_doc_GBRT']=np.log(model_test['price_doc_GBRT']+1)\n",
    "model_test.head()"
   ]
  },
  {
   "cell_type": "code",
   "execution_count": 36,
   "metadata": {
    "collapsed": false
   },
   "outputs": [],
   "source": [
    "model_average=model_test.price_doc_rf.values*0.3+model_test.price_doc_xgb.values*0.5+model_test.price_doc_GBRT.values*0.2\n",
    "\n",
    "model_pre=pd.DataFrame({'id':rf_test.id.values, 'price_doc': model_average})\n",
    "model_pre.head()\n",
    "model_pre.to_csv(path_or_buf='170529_average_0.3rf_0.5xgb_0.2GBRT.csv', index=False)"
   ]
  },
  {
   "cell_type": "code",
   "execution_count": 29,
   "metadata": {
    "collapsed": false
   },
   "outputs": [
    {
     "data": {
      "text/html": [
       "<div>\n",
       "<table border=\"1\" class=\"dataframe\">\n",
       "  <thead>\n",
       "    <tr style=\"text-align: right;\">\n",
       "      <th></th>\n",
       "      <th>id</th>\n",
       "      <th>price_doc</th>\n",
       "    </tr>\n",
       "  </thead>\n",
       "  <tbody>\n",
       "    <tr>\n",
       "      <th>0</th>\n",
       "      <td>30474</td>\n",
       "      <td>5129663.979024</td>\n",
       "    </tr>\n",
       "    <tr>\n",
       "      <th>1</th>\n",
       "      <td>30475</td>\n",
       "      <td>9561480.468761</td>\n",
       "    </tr>\n",
       "    <tr>\n",
       "      <th>2</th>\n",
       "      <td>30476</td>\n",
       "      <td>5700192.225127</td>\n",
       "    </tr>\n",
       "    <tr>\n",
       "      <th>3</th>\n",
       "      <td>30477</td>\n",
       "      <td>7501002.871499</td>\n",
       "    </tr>\n",
       "    <tr>\n",
       "      <th>4</th>\n",
       "      <td>30478</td>\n",
       "      <td>5552761.374231</td>\n",
       "    </tr>\n",
       "  </tbody>\n",
       "</table>\n",
       "</div>"
      ],
      "text/plain": [
       "      id       price_doc\n",
       "0  30474  5129663.979024\n",
       "1  30475  9561480.468761\n",
       "2  30476  5700192.225127\n",
       "3  30477  7501002.871499\n",
       "4  30478  5552761.374231"
      ]
     },
     "execution_count": 29,
     "metadata": {},
     "output_type": "execute_result"
    }
   ],
   "source": [
    "model_pre=clf.predict(model_test[['price_doc_rf', 'price_doc_xgb', 'price_doc_GBRT']])\n",
    "\n",
    "model_pre=np.exp(model_pre)+1\n",
    "model_pre_df=pd.DataFrame({'id': rf_test.id.values, 'price_doc': model_pre})\n",
    "model_pre_df.to_csv('170529_linear_rg_xgb_GBRT', index=False)\n",
    "model_pre_df.head()"
   ]
  }
 ],
 "metadata": {
  "anaconda-cloud": {},
  "kernelspec": {
   "display_name": "Python [Root]",
   "language": "python",
   "name": "Python [Root]"
  },
  "language_info": {
   "codemirror_mode": {
    "name": "ipython",
    "version": 3
   },
   "file_extension": ".py",
   "mimetype": "text/x-python",
   "name": "python",
   "nbconvert_exporter": "python",
   "pygments_lexer": "ipython3",
   "version": "3.5.2"
  }
 },
 "nbformat": 4,
 "nbformat_minor": 0
}
