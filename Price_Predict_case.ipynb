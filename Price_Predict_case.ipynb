{
 "cells": [
  {
   "cell_type": "code",
   "execution_count": 161,
   "metadata": {
    "collapsed": true
   },
   "outputs": [],
   "source": [
    "import pandas as pd\n",
    "import numpy as np\n",
    "import matplotlib.pyplot as plt\n",
    "import seaborn as sns\n",
    "import operator\n",
    "from sklearn.preprocessing import StandardScaler\n",
    "from sklearn.model_selection import GridSearchCV, cross_val_score\n",
    "from sklearn.ensemble import GradientBoostingRegressor\n",
    "\n",
    "\n",
    "random_state=7\n",
    "\n",
    "%matplotlib inline\n",
    "pd.set_option('display.max_columns', 500)"
   ]
  },
  {
   "cell_type": "markdown",
   "metadata": {},
   "source": [
    "# Reading Data"
   ]
  },
  {
   "cell_type": "code",
   "execution_count": 162,
   "metadata": {
    "collapsed": false
   },
   "outputs": [
    {
     "name": "stdout",
     "output_type": "stream",
     "text": [
      "The shape of training data is (30471, 292)\n",
      "The shape of test data is (7662, 291)\n"
     ]
    }
   ],
   "source": [
    "train=pd.read_csv('input/train.csv', parse_dates=['timestamp'])\n",
    "test=pd.read_csv('input/test.csv', parse_dates=['timestamp'])\n",
    "macro=pd.read_csv('input/macro.csv', parse_dates=['timestamp'])\n",
    "\n",
    "\n",
    "test_id=test['id']\n",
    "\n",
    "print('The shape of training data is', train.shape)\n",
    "print('The shape of test data is', test.shape)\n",
    "#print('The shape of macro data is', macro.shape)\n",
    "\n",
    "\n",
    "#fts contains the feature names (exclude id and year)\n",
    "fts=list(train.columns[1:-1])"
   ]
  },
  {
   "cell_type": "code",
   "execution_count": 163,
   "metadata": {
    "collapsed": false
   },
   "outputs": [
    {
     "name": "stdout",
     "output_type": "stream",
     "text": [
      "shape of the investment type (17693, 292)\n",
      "num of ind_1m 930\n",
      "num of ind_2m 680\n",
      "num of ind_3m 292\n"
     ]
    }
   ],
   "source": [
    "# sample the training data\n",
    "trainsub=train[train.timestamp<'2015-01-01']\n",
    "trainsub=trainsub[trainsub.product_type=='Investment']\n",
    "print('shape of the investment type', trainsub.shape)\n",
    "\n",
    "ind_1m=trainsub[trainsub.price_doc <= 1000000].index\n",
    "ind_2m=trainsub[trainsub.price_doc == 2000000].index\n",
    "ind_3m=trainsub[trainsub.price_doc==3000000].index\n",
    "\n",
    "print('num of ind_1m', len(ind_1m))\n",
    "print('num of ind_2m', len(ind_2m))\n",
    "print('num of ind_3m', len(ind_3m))\n",
    "\n",
    "train_index=set(train.index.copy())\n",
    "\n",
    "for ind, gap in zip([ind_1m, ind_2m, ind_3m], [10, 3, 2]):\n",
    "    ind_set=set(ind)\n",
    "    ind_set_cut=ind.difference(set(ind[::gap]))\n",
    "    \n",
    "    train_index=train_index.difference(ind_set_cut)\n",
    "    \n",
    "train=train.loc[train_index]\n",
    "train['price_doc']=np.log(train['price_doc']+1)"
   ]
  },
  {
   "cell_type": "code",
   "execution_count": 164,
   "metadata": {
    "collapsed": false
   },
   "outputs": [
    {
     "name": "stdout",
     "output_type": "stream",
     "text": [
      "number of train 29030\n",
      "number of test 7662\n"
     ]
    }
   ],
   "source": [
    "#get rid of price outliers\n",
    "train=train[(train.price_doc>13.5)&(train.price_doc<18.5)]\n",
    "\n",
    "n_train=train.shape[0]\n",
    "n_test=test.shape[0]\n",
    "\n",
    "\n",
    "print('number of train', n_train)\n",
    "print('number of test', n_test)"
   ]
  },
  {
   "cell_type": "markdown",
   "metadata": {},
   "source": [
    "# Look at Nas in important features"
   ]
  },
  {
   "cell_type": "code",
   "execution_count": 165,
   "metadata": {
    "collapsed": false
   },
   "outputs": [],
   "source": [
    "#if build year if larger than 2019 or smaller than 1800 change them to median\n",
    "train['build_year'][(train.build_year<1800) | (train.build_year>2019)]=train.build_year.median()\n",
    "\n",
    "#if full sq is zero, assign it to median\n",
    "train['full_sq'][train.full_sq==0]=train.full_sq.median()\n",
    "\n",
    "#if max_floor is zero, assign it to median\n",
    "train['max_floor'][train.max_floor==0]=train.full_sq.median()\n",
    "\n",
    "#preschool quota is zero assign it to median\n",
    "train['preschool_quota'][train.preschool_quota==0]=train.preschool_quota.median()\n",
    "\n",
    "#if kitch_sq is too large or larger than life_sq use 20% full_sq\n",
    "train['kitch_sq'][(train.kitch_sq > 50) | (train.kitch_sq > train.life_sq)]=kitch_est=train['full_sq'][(train.kitch_sq > 50) | (train.kitch_sq > train.life_sq)]*0.2\n",
    "\n",
    "#if life_sq is na or life_sq is too small or too large, change it to 0.7 full_sq\n",
    "#train['life_sq'][train.life_sq.isnull()]=train['full_sq'][train.life_sq.isnull()]*0.7\n",
    "#train['life_sq'][(train.life_sq<0.1*train.full_sq)| (train.life_sq>train.full_sq)] = train['full_sq'][(train.life_sq<0.1*train.full_sq)| (train.life_sq>train.full_sq)]\n",
    "\n",
    "#fill no data with satisfactory\n",
    "train['ecology'][train.ecology=='no data']='satisfactory'"
   ]
  },
  {
   "cell_type": "code",
   "execution_count": 166,
   "metadata": {
    "collapsed": false
   },
   "outputs": [
    {
     "name": "stderr",
     "output_type": "stream",
     "text": [
      "/home/xinlin/anaconda3/lib/python3.5/site-packages/ipykernel/__main__.py:2: SettingWithCopyWarning: \n",
      "A value is trying to be set on a copy of a slice from a DataFrame\n",
      "\n",
      "See the caveats in the documentation: http://pandas.pydata.org/pandas-docs/stable/indexing.html#indexing-view-versus-copy\n",
      "  from ipykernel import kernelapp as app\n",
      "/home/xinlin/anaconda3/lib/python3.5/site-packages/ipykernel/__main__.py:5: SettingWithCopyWarning: \n",
      "A value is trying to be set on a copy of a slice from a DataFrame\n",
      "\n",
      "See the caveats in the documentation: http://pandas.pydata.org/pandas-docs/stable/indexing.html#indexing-view-versus-copy\n",
      "/home/xinlin/anaconda3/lib/python3.5/site-packages/ipykernel/__main__.py:8: SettingWithCopyWarning: \n",
      "A value is trying to be set on a copy of a slice from a DataFrame\n",
      "\n",
      "See the caveats in the documentation: http://pandas.pydata.org/pandas-docs/stable/indexing.html#indexing-view-versus-copy\n",
      "/home/xinlin/anaconda3/lib/python3.5/site-packages/ipykernel/__main__.py:11: SettingWithCopyWarning: \n",
      "A value is trying to be set on a copy of a slice from a DataFrame\n",
      "\n",
      "See the caveats in the documentation: http://pandas.pydata.org/pandas-docs/stable/indexing.html#indexing-view-versus-copy\n",
      "/home/xinlin/anaconda3/lib/python3.5/site-packages/ipykernel/__main__.py:14: SettingWithCopyWarning: \n",
      "A value is trying to be set on a copy of a slice from a DataFrame\n",
      "\n",
      "See the caveats in the documentation: http://pandas.pydata.org/pandas-docs/stable/indexing.html#indexing-view-versus-copy\n",
      "/home/xinlin/anaconda3/lib/python3.5/site-packages/ipykernel/__main__.py:21: SettingWithCopyWarning: \n",
      "A value is trying to be set on a copy of a slice from a DataFrame\n",
      "\n",
      "See the caveats in the documentation: http://pandas.pydata.org/pandas-docs/stable/indexing.html#indexing-view-versus-copy\n"
     ]
    }
   ],
   "source": [
    "#if build year if larger than 2019 or smaller than 1800 change them to median\n",
    "test['build_year'][(test.build_year<1800) | (test.build_year>2019)]=test.build_year.median()\n",
    "\n",
    "#if full sq is zero, assign it to median\n",
    "test['full_sq'][test.full_sq==0]=test.full_sq.median()\n",
    "\n",
    "#if max_floor is zero, assign it to median\n",
    "test['max_floor'][test.max_floor==0]=test.full_sq.median()\n",
    "\n",
    "#preschool quota is zero assign it to median\n",
    "test['preschool_quota'][test.preschool_quota==0]=test.preschool_quota.median()\n",
    "\n",
    "#if kitch_sq is too large or larger than life_sq use 20% full_sq\n",
    "test['kitch_sq'][(test.kitch_sq > 50) | (test.kitch_sq > test.life_sq)]=kitch_est=test['full_sq'][(test.kitch_sq > 50) | (test.kitch_sq > test.life_sq)]*0.2\n",
    "\n",
    "#if life_sq is na or life_sq is too small or too large, change it to 0.7 full_sq\n",
    "#test['life_sq'][test.life_sq.isnull()]=test['full_sq'][test.life_sq.isnull()]*0.7\n",
    "#test['life_sq'][(test.life_sq<0.1*test.full_sq)| (test.life_sq>test.full_sq)] = test['full_sq'][(test.life_sq<0.1*test.full_sq)| (test.life_sq>test.full_sq)]\n",
    "\n",
    "#fill no data with satisfactory\n",
    "test['ecology'][test.ecology=='no data']='satisfactory'"
   ]
  },
  {
   "cell_type": "code",
   "execution_count": 167,
   "metadata": {
    "collapsed": false
   },
   "outputs": [
    {
     "name": "stdout",
     "output_type": "stream",
     "text": [
      "num of train 29030\n",
      "num of test 7662\n",
      "number of train with life_sq 22649\n",
      "number of train without life_sq 6381\n",
      "number of test with life_sq 6486\n",
      "number of test without life_sq 1176\n",
      "number of target with life 22649\n",
      "number of target no life 6381\n"
     ]
    }
   ],
   "source": [
    "print('num of train', train.shape[0])\n",
    "print('num of test', test.shape[0])\n",
    "\n",
    "train_with_life=train[~train.life_sq.isnull()]\n",
    "print('number of train with life_sq', train_with_life.shape[0])\n",
    "\n",
    "train_no_life=train[train.life_sq.isnull()]\n",
    "train_no_life=train_no_life.drop(['life_sq'], axis=1)\n",
    "print('number of train without life_sq', train_no_life.shape[0])\n",
    "\n",
    "\n",
    "test_with_life=test[~test.life_sq.isnull()]\n",
    "print('number of test with life_sq', test_with_life.shape[0])\n",
    "\n",
    "test_no_life=test[test.life_sq.isnull()]\n",
    "test_no_life=test_no_life.drop(['life_sq'], axis=1)\n",
    "print('number of test without life_sq', test_no_life.shape[0])\n",
    "\n",
    "\n",
    "target_with_life=train_with_life.price_doc.values\n",
    "target_no_life=train_no_life.price_doc.values\n",
    "\n",
    "train_with_life=train_with_life.drop(['price_doc'], axis=1)\n",
    "train_no_life=train_no_life.drop(['price_doc'], axis=1)\n",
    "\n",
    "print('number of target with life', len(target_with_life))\n",
    "print('number of target no life', len(target_no_life))\n",
    "\n",
    "\n",
    "selected_f=[\"timestamp\", \"balance_trade_growth\", \"eurrub\", \"average_provision_of_build_contract\", \n",
    "\"micex_rgbi_tr\", \"micex_cbi_tr\", \"deposits_rate\", \"mortgage_value\", \n",
    "\"mortgage_rate\", \"income_per_cap\", \"rent_price_4+room_bus\",\"museum_visitis_per_100_cap\",\"apartment_build\"]\n",
    "\n",
    "selected_macro=macro[selected_f]"
   ]
  },
  {
   "cell_type": "code",
   "execution_count": 168,
   "metadata": {
    "collapsed": false
   },
   "outputs": [
    {
     "name": "stdout",
     "output_type": "stream",
     "text": [
      "shape of the merged train_with_life (22649, 307)\n",
      "shape of the merged train_no_life (6381, 306)\n",
      "shape of the merged test_with_life (6486, 307)\n",
      "shape of the merged test_no_life (1176, 306)\n"
     ]
    }
   ],
   "source": [
    "train_with_life=pd.merge(train_with_life, selected_macro, how='left', on='timestamp')\n",
    "\n",
    "#Add month-year count\n",
    "month_year = (train_with_life.timestamp.dt.month + train_with_life.timestamp.dt.year*100)\n",
    "month_year_cnt_map=month_year.value_counts().to_dict()\n",
    "train_with_life['month_year_cnt']=month_year.map(month_year_cnt_map)\n",
    "\n",
    "#Add week-year count\n",
    "week_year=(train_with_life.timestamp.dt.week + train_with_life.timestamp.dt.year*100)\n",
    "week_year_cnt_map=week_year.value_counts().to_dict()\n",
    "train_with_life['week_year_cnt']=week_year.map(week_year_cnt_map)\n",
    "\n",
    "#Add month and day-of-week\n",
    "train_with_life['month']=train_with_life.timestamp.dt.month\n",
    "train_with_life['dow']=train_with_life.timestamp.dt.month\n",
    "\n",
    "print('shape of the merged train_with_life', train_with_life.shape)\n",
    "\n",
    "\n",
    "\n",
    "train_no_life=pd.merge(train_no_life, selected_macro, how='left', on='timestamp')\n",
    "\n",
    "#Add month-year count\n",
    "month_year = (train_no_life.timestamp.dt.month + train_no_life.timestamp.dt.year*100)\n",
    "month_year_cnt_map=month_year.value_counts().to_dict()\n",
    "train_no_life['month_year_cnt']=month_year.map(month_year_cnt_map)\n",
    "\n",
    "#Add week-year count\n",
    "week_year=(train_no_life.timestamp.dt.week + train_no_life.timestamp.dt.year*100)\n",
    "week_year_cnt_map=week_year.value_counts().to_dict()\n",
    "train_no_life['week_year_cnt']=week_year.map(week_year_cnt_map)\n",
    "\n",
    "#Add month and day-of-week\n",
    "train_no_life['month']=train_no_life.timestamp.dt.month\n",
    "train_no_life['dow']=train_no_life.timestamp.dt.month\n",
    "\n",
    "print('shape of the merged train_no_life', train_no_life.shape)\n",
    "\n",
    "\n",
    "test_with_life=pd.merge(test_with_life, selected_macro, how='left', on='timestamp')\n",
    "\n",
    "#Add month-year count\n",
    "month_year = (test_with_life.timestamp.dt.month + test_with_life.timestamp.dt.year*100)\n",
    "month_year_cnt_map=month_year.value_counts().to_dict()\n",
    "test_with_life['month_year_cnt']=month_year.map(month_year_cnt_map)\n",
    "\n",
    "#Add week-year count\n",
    "week_year=(test_with_life.timestamp.dt.week + test_with_life.timestamp.dt.year*100)\n",
    "week_year_cnt_map=week_year.value_counts().to_dict()\n",
    "test_with_life['week_year_cnt']=week_year.map(week_year_cnt_map)\n",
    "\n",
    "#Add month and day-of-week\n",
    "test_with_life['month']=test_with_life.timestamp.dt.month\n",
    "test_with_life['dow']=test_with_life.timestamp.dt.month\n",
    "\n",
    "print('shape of the merged test_with_life', test_with_life.shape)\n",
    "\n",
    "\n",
    "test_no_life=pd.merge(test_no_life, selected_macro, how='left', on='timestamp')\n",
    "\n",
    "#Add month-year count\n",
    "month_year = (test_no_life.timestamp.dt.month + test_no_life.timestamp.dt.year*100)\n",
    "month_year_cnt_map=month_year.value_counts().to_dict()\n",
    "test_no_life['month_year_cnt']=month_year.map(month_year_cnt_map)\n",
    "\n",
    "#Add week-year count\n",
    "week_year=(test_no_life.timestamp.dt.week + test_no_life.timestamp.dt.year*100)\n",
    "week_year_cnt_map=week_year.value_counts().to_dict()\n",
    "test_no_life['week_year_cnt']=week_year.map(week_year_cnt_map)\n",
    "\n",
    "#Add month and day-of-week\n",
    "test_no_life['month']=test_no_life.timestamp.dt.month\n",
    "test_no_life['dow']=test_no_life.timestamp.dt.month\n",
    "\n",
    "print('shape of the merged test_no_life', test_no_life.shape)\n",
    "\n"
   ]
  },
  {
   "cell_type": "code",
   "execution_count": 169,
   "metadata": {
    "collapsed": false
   },
   "outputs": [
    {
     "name": "stdout",
     "output_type": "stream",
     "text": [
      "train_with_life shape after get_dummies (22649, 467)\n",
      "test_with_life shape after get_dummies (6486, 467)\n",
      "train_no_life shape after get_dummies (6381, 416)\n",
      "test_no_life shape after get_dummies (1176, 416)\n"
     ]
    }
   ],
   "source": [
    "n_train_with_life=train_with_life.shape[0]\n",
    "all_with_life=pd.concat([train_with_life, test_with_life])\n",
    "\n",
    "all_with_life=pd.get_dummies(all_with_life)\n",
    "all_with_life['year']=all_with_life['timestamp'].dt.year.astype(int)\n",
    "all_with_life.drop('timestamp', axis=1, inplace=True)\n",
    "\n",
    "\n",
    "train_with_life=all_with_life.iloc[:n_train_with_life, :]\n",
    "print('train_with_life shape after get_dummies', train_with_life.shape)\n",
    "test_with_life=all_with_life.iloc[n_train_with_life:, :]\n",
    "print('test_with_life shape after get_dummies', test_with_life.shape)\n",
    "\n",
    "\n",
    "\n",
    "n_train_no_life=train_no_life.shape[0]\n",
    "all_no_life=pd.concat([train_no_life, test_no_life])\n",
    "\n",
    "all_no_life=pd.get_dummies(all_no_life)\n",
    "all_no_life['year']=all_no_life['timestamp'].dt.year.astype(int)\n",
    "all_no_life.drop('timestamp', axis=1, inplace=True)\n",
    "\n",
    "\n",
    "train_no_life=all_no_life.iloc[:n_train_no_life, :]\n",
    "print('train_no_life shape after get_dummies', train_no_life.shape)\n",
    "test_no_life=all_no_life.iloc[n_train_no_life:, :]\n",
    "print('test_no_life shape after get_dummies', test_no_life.shape)\n",
    "\n"
   ]
  },
  {
   "cell_type": "code",
   "execution_count": 170,
   "metadata": {
    "collapsed": false
   },
   "outputs": [
    {
     "name": "stdout",
     "output_type": "stream",
     "text": [
      "id in train with life 22649\n",
      "id in train no life 6381\n",
      "id in test with life 6486\n",
      "id in test no life 1176\n"
     ]
    },
    {
     "name": "stderr",
     "output_type": "stream",
     "text": [
      "/home/xinlin/anaconda3/lib/python3.5/site-packages/ipykernel/__main__.py:13: SettingWithCopyWarning: \n",
      "A value is trying to be set on a copy of a slice from a DataFrame\n",
      "\n",
      "See the caveats in the documentation: http://pandas.pydata.org/pandas-docs/stable/indexing.html#indexing-view-versus-copy\n",
      "/home/xinlin/anaconda3/lib/python3.5/site-packages/ipykernel/__main__.py:14: SettingWithCopyWarning: \n",
      "A value is trying to be set on a copy of a slice from a DataFrame\n",
      "\n",
      "See the caveats in the documentation: http://pandas.pydata.org/pandas-docs/stable/indexing.html#indexing-view-versus-copy\n",
      "/home/xinlin/anaconda3/lib/python3.5/site-packages/ipykernel/__main__.py:15: SettingWithCopyWarning: \n",
      "A value is trying to be set on a copy of a slice from a DataFrame\n",
      "\n",
      "See the caveats in the documentation: http://pandas.pydata.org/pandas-docs/stable/indexing.html#indexing-view-versus-copy\n",
      "/home/xinlin/anaconda3/lib/python3.5/site-packages/ipykernel/__main__.py:16: SettingWithCopyWarning: \n",
      "A value is trying to be set on a copy of a slice from a DataFrame\n",
      "\n",
      "See the caveats in the documentation: http://pandas.pydata.org/pandas-docs/stable/indexing.html#indexing-view-versus-copy\n"
     ]
    }
   ],
   "source": [
    "id_train_with_life=train_with_life.id.values\n",
    "id_train_no_life=train_no_life.id.values\n",
    "\n",
    "id_test_with_life=test_with_life.id.values\n",
    "id_test_no_life=test_no_life.id.values\n",
    "\n",
    "print('id in train with life', len(id_train_with_life))\n",
    "print('id in train no life', len(id_train_no_life))\n",
    "print('id in test with life', len(id_test_with_life))\n",
    "print('id in test no life', len(id_test_no_life))\n",
    "\n",
    "\n",
    "train_with_life.drop('id', axis=1, inplace=True)\n",
    "train_no_life.drop('id', axis=1, inplace=True)\n",
    "test_with_life.drop('id', axis=1, inplace=True)\n",
    "test_no_life.drop('id', axis=1, inplace=True)"
   ]
  },
  {
   "cell_type": "code",
   "execution_count": 154,
   "metadata": {
    "collapsed": false
   },
   "outputs": [
    {
     "name": "stdout",
     "output_type": "stream",
     "text": [
      "Stored 'id_train_no_life' (ndarray)\n"
     ]
    }
   ],
   "source": [
    "%store id_train_no_life"
   ]
  },
  {
   "cell_type": "markdown",
   "metadata": {},
   "source": [
    "# Fill NaS with Median"
   ]
  },
  {
   "cell_type": "code",
   "execution_count": null,
   "metadata": {
    "collapsed": true
   },
   "outputs": [],
   "source": [
    "# #when using get_dummies the Nan in categorical data are ignored. The possible Nan are numbers. fill them with mean\n",
    "# print('number of NaN in train and test', data.isnull().sum().sum())\n",
    "\n",
    "# data=data.fillna(data.median())\n",
    "\n",
    "# print('number of NaN in train and test', data.isnull().sum().sum())"
   ]
  },
  {
   "cell_type": "code",
   "execution_count": 12,
   "metadata": {
    "collapsed": false
   },
   "outputs": [],
   "source": [
    "# #Add more features:\n",
    "\n",
    "# #relative floor\n",
    "# data['relative_floor']=data['floor'].div(data['max_floor'].astype(float))\n",
    "\n",
    "# #relative life_sq\n",
    "# data['relative_life_sq']=data['life_sq'].div(data['full_sq'].astype(float))\n",
    "\n",
    "# #ratio of number of pupils and preschool seats\n",
    "# data['ratio_preschool']=data['children_preschool'].div(data['preschool_quota'].astype(float))\n",
    "\n",
    "# #ratio of number of pupils and school seats\n",
    "# data['ratio_school']=data['children_school'].div(data['school_quota'].astype(float))\n",
    "\n",
    "# #young porpulation ratio\n",
    "# data['ratio_young']=data['young_all'].div(data['full_all'].astype(float))"
   ]
  },
  {
   "cell_type": "markdown",
   "metadata": {
    "collapsed": true
   },
   "source": [
    "# Try standardscaler before fitting"
   ]
  },
  {
   "cell_type": "code",
   "execution_count": 13,
   "metadata": {
    "collapsed": false
   },
   "outputs": [],
   "source": [
    "# from sklearn.preprocessing import StandardScaler\n",
    "# col_names=list(data.columns)\n",
    "\n",
    "# ss=StandardScaler(with_mean=False, with_std=True)\n",
    "# data_std=ss.fit_transform(data)\n",
    "# data_std=pd.DataFrame(data_std, columns=col_names)\n",
    "\n",
    "# train_std=data_std.iloc[:n_train, :]\n",
    "# test_std=data_std.iloc[n_train :, :]"
   ]
  },
  {
   "cell_type": "markdown",
   "metadata": {},
   "source": [
    "# Random Forest"
   ]
  },
  {
   "cell_type": "code",
   "execution_count": 14,
   "metadata": {
    "collapsed": false
   },
   "outputs": [],
   "source": [
    "from sklearn.ensemble import RandomForestRegressor"
   ]
  },
  {
   "cell_type": "code",
   "execution_count": 15,
   "metadata": {
    "collapsed": false
   },
   "outputs": [
    {
     "name": "stderr",
     "output_type": "stream",
     "text": [
      "[Parallel(n_jobs=-1)]: Done  42 tasks      | elapsed:  1.2min\n",
      "[Parallel(n_jobs=-1)]: Done 192 tasks      | elapsed:  6.2min\n",
      "[Parallel(n_jobs=-1)]: Done 442 tasks      | elapsed: 14.7min\n",
      "[Parallel(n_jobs=-1)]: Done 792 tasks      | elapsed: 26.9min\n",
      "[Parallel(n_jobs=-1)]: Done 800 out of 800 | elapsed: 27.2min finished\n"
     ]
    },
    {
     "data": {
      "text/plain": [
       "RandomForestRegressor(bootstrap=True, criterion='mse', max_depth=10,\n",
       "           max_features='auto', max_leaf_nodes=None,\n",
       "           min_impurity_split=1e-07, min_samples_leaf=1,\n",
       "           min_samples_split=2, min_weight_fraction_leaf=0.0,\n",
       "           n_estimators=800, n_jobs=-1, oob_score=False, random_state=None,\n",
       "           verbose=1, warm_start=False)"
      ]
     },
     "execution_count": 15,
     "metadata": {},
     "output_type": "execute_result"
    }
   ],
   "source": [
    "#train rf:\n",
    "\n",
    "rf=RandomForestRegressor(n_estimators=800, n_jobs=-1, \n",
    "                         max_features='auto', max_depth=10, verbose=1)\n",
    "rf.fit(train_std, target)"
   ]
  },
  {
   "cell_type": "code",
   "execution_count": 57,
   "metadata": {
    "collapsed": false
   },
   "outputs": [
    {
     "name": "stdout",
     "output_type": "stream",
     "text": [
      "number of rf_index 14\n"
     ]
    }
   ],
   "source": [
    "rf_importance=rf.feature_importances_\n",
    "rf_dict=dict()\n",
    "\n",
    "for f, importance in zip (train_std.columns, rf_importance):\n",
    "    rf_dict[f]=importance\n",
    "    \n",
    "rf_dict=sorted(rf_dict.items(), key=operator.itemgetter(1), reverse=True)\n",
    "rf_dict=pd.DataFrame(rf_dict, columns=['feature', 'score'])\n",
    "#rf_dict.to_csv(path_or_buf='submissions/0527/rf_feature_importance.csv')\n",
    "\n",
    "importance_rate=0.01\n",
    "rf_index=rf_dict[rf_dict.score>importance_rate*rf_dict.score.max()].feature.values\n",
    "print('number of rf_index', len(rf_index))"
   ]
  },
  {
   "cell_type": "code",
   "execution_count": 58,
   "metadata": {
    "collapsed": false
   },
   "outputs": [
    {
     "name": "stderr",
     "output_type": "stream",
     "text": [
      "[Parallel(n_jobs=-1)]: Done  42 tasks      | elapsed:    2.9s\n",
      "[Parallel(n_jobs=-1)]: Done 192 tasks      | elapsed:   14.2s\n",
      "[Parallel(n_jobs=-1)]: Done 442 tasks      | elapsed:   40.4s\n",
      "[Parallel(n_jobs=-1)]: Done 792 tasks      | elapsed:  1.3min\n",
      "[Parallel(n_jobs=-1)]: Done 800 out of 800 | elapsed:  1.3min finished\n"
     ]
    },
    {
     "data": {
      "text/plain": [
       "RandomForestRegressor(bootstrap=True, criterion='mse', max_depth=10,\n",
       "           max_features='auto', max_leaf_nodes=None,\n",
       "           min_impurity_split=1e-07, min_samples_leaf=1,\n",
       "           min_samples_split=2, min_weight_fraction_leaf=0.0,\n",
       "           n_estimators=800, n_jobs=-1, oob_score=False, random_state=None,\n",
       "           verbose=1, warm_start=False)"
      ]
     },
     "execution_count": 58,
     "metadata": {},
     "output_type": "execute_result"
    }
   ],
   "source": [
    "rf_new=RandomForestRegressor(n_estimators=800, n_jobs=-1,\n",
    "                            max_features='auto', max_depth=10, verbose=1)\n",
    "rf_new.fit(train_std[rf_index], target)"
   ]
  },
  {
   "cell_type": "code",
   "execution_count": 59,
   "metadata": {
    "collapsed": false
   },
   "outputs": [
    {
     "name": "stderr",
     "output_type": "stream",
     "text": [
      "[Parallel(n_jobs=4)]: Done  42 tasks      | elapsed:    0.1s\n",
      "[Parallel(n_jobs=4)]: Done 192 tasks      | elapsed:    0.4s\n",
      "[Parallel(n_jobs=4)]: Done 442 tasks      | elapsed:    0.8s\n",
      "[Parallel(n_jobs=4)]: Done 792 tasks      | elapsed:    1.5s\n",
      "[Parallel(n_jobs=4)]: Done 800 out of 800 | elapsed:    1.5s finished\n",
      "[Parallel(n_jobs=4)]: Done  42 tasks      | elapsed:    0.0s\n",
      "[Parallel(n_jobs=4)]: Done 192 tasks      | elapsed:    0.2s\n",
      "[Parallel(n_jobs=4)]: Done 442 tasks      | elapsed:    0.4s\n",
      "[Parallel(n_jobs=4)]: Done 792 tasks      | elapsed:    0.7s\n",
      "[Parallel(n_jobs=4)]: Done 800 out of 800 | elapsed:    0.7s finished\n"
     ]
    },
    {
     "data": {
      "text/html": [
       "<div>\n",
       "<table border=\"1\" class=\"dataframe\">\n",
       "  <thead>\n",
       "    <tr style=\"text-align: right;\">\n",
       "      <th></th>\n",
       "      <th>id</th>\n",
       "      <th>price_doc</th>\n",
       "    </tr>\n",
       "  </thead>\n",
       "  <tbody>\n",
       "    <tr>\n",
       "      <th>0</th>\n",
       "      <td>30474</td>\n",
       "      <td>5101030.540339</td>\n",
       "    </tr>\n",
       "    <tr>\n",
       "      <th>1</th>\n",
       "      <td>30475</td>\n",
       "      <td>8362429.300093</td>\n",
       "    </tr>\n",
       "    <tr>\n",
       "      <th>2</th>\n",
       "      <td>30476</td>\n",
       "      <td>6274865.593472</td>\n",
       "    </tr>\n",
       "    <tr>\n",
       "      <th>3</th>\n",
       "      <td>30477</td>\n",
       "      <td>6374278.885423</td>\n",
       "    </tr>\n",
       "    <tr>\n",
       "      <th>4</th>\n",
       "      <td>30478</td>\n",
       "      <td>5145806.001251</td>\n",
       "    </tr>\n",
       "  </tbody>\n",
       "</table>\n",
       "</div>"
      ],
      "text/plain": [
       "      id       price_doc\n",
       "0  30474  5101030.540339\n",
       "1  30475  8362429.300093\n",
       "2  30476  6274865.593472\n",
       "3  30477  6374278.885423\n",
       "4  30478  5145806.001251"
      ]
     },
     "execution_count": 59,
     "metadata": {},
     "output_type": "execute_result"
    }
   ],
   "source": [
    "in_rf=rf_new.predict(train_std[rf_index])\n",
    "in_rf=np.exp(in_rf)-1\n",
    "insample_rf=pd.DataFrame({'id': train.id, 'price_doc_rf': in_rf})\n",
    "insample_rf.to_csv(path_or_buf='ensamble/rf_train_0.01importance.csv', index=False)\n",
    "\n",
    "pre_rf=rf_new.predict(test_std[rf_index])\n",
    "pre_rf=np.exp(pre_rf)-1\n",
    "\n",
    "submission=pd.DataFrame({'id': test_id, 'price_doc': pre_rf})\n",
    "submission.to_csv(path_or_buf='ensamble/170527subission_rf_with_12macro_cleandata_8newfeature.cs_0.01importv',index=False)\n",
    "submission.head()"
   ]
  },
  {
   "cell_type": "markdown",
   "metadata": {},
   "source": [
    "# XGBOOST with life_sq"
   ]
  },
  {
   "cell_type": "code",
   "execution_count": 143,
   "metadata": {
    "collapsed": false
   },
   "outputs": [],
   "source": [
    "import xgboost as xgb"
   ]
  },
  {
   "cell_type": "code",
   "execution_count": 171,
   "metadata": {
    "collapsed": false,
    "scrolled": true
   },
   "outputs": [
    {
     "name": "stdout",
     "output_type": "stream",
     "text": [
      "shape of train_part (5104, 415)\n",
      "shape of target_part (5104,)\n",
      "shape of val_train (1277, 415)\n",
      "shape of val_target (1277,)\n"
     ]
    }
   ],
   "source": [
    "from sklearn.model_selection import train_test_split\n",
    "train_part, val_train, target_part, val_target=train_test_split(train_no_life, target_no_life, test_size=0.2, \n",
    "                                                              random_state=random_state)\n",
    "print('shape of train_part', train_part.shape)\n",
    "print('shape of target_part', target_part.shape)\n",
    "print('shape of val_train', val_train.shape)\n",
    "print('shape of val_target', val_target.shape)"
   ]
  },
  {
   "cell_type": "code",
   "execution_count": 172,
   "metadata": {
    "collapsed": false
   },
   "outputs": [
    {
     "name": "stdout",
     "output_type": "stream",
     "text": [
      "[0]\tvalidation-rmse:8.40512\n",
      "Will train until validation-rmse hasn't improved in 20 rounds.\n",
      "[100]\tvalidation-rmse:1.25783\n",
      "[200]\tvalidation-rmse:0.308998\n",
      "[300]\tvalidation-rmse:0.171962\n",
      "[400]\tvalidation-rmse:0.14303\n",
      "[500]\tvalidation-rmse:0.1325\n",
      "[600]\tvalidation-rmse:0.127193\n",
      "[700]\tvalidation-rmse:0.12407\n",
      "[800]\tvalidation-rmse:0.121974\n",
      "[900]\tvalidation-rmse:0.120612\n",
      "[1000]\tvalidation-rmse:0.119559\n",
      "[1100]\tvalidation-rmse:0.118677\n",
      "[1200]\tvalidation-rmse:0.117974\n",
      "[1300]\tvalidation-rmse:0.117334\n",
      "[1400]\tvalidation-rmse:0.116949\n",
      "[1500]\tvalidation-rmse:0.116495\n",
      "[1600]\tvalidation-rmse:0.116204\n",
      "[1700]\tvalidation-rmse:0.115925\n",
      "[1800]\tvalidation-rmse:0.115749\n",
      "[1900]\tvalidation-rmse:0.115586\n",
      "Stopping. Best iteration:\n",
      "[1943]\tvalidation-rmse:0.115494\n",
      "\n"
     ]
    }
   ],
   "source": [
    "dtrain=xgb.DMatrix(train_part, target_part)\n",
    "dval=xgb.DMatrix(val_train, val_target)\n",
    "\n",
    "xgb_params = {\n",
    "    'eta': 0.02,\n",
    "    'max_depth': 6,\n",
    "    'subsample': 0.8,\n",
    "    'colsample_bytree': 0.8,\n",
    "    'objective': 'reg:linear',\n",
    "    'eval_metric': 'rmse',\n",
    "    'silent': 0,\n",
    "    'lambda': 100,\n",
    "    'base_score': 7\n",
    "}\n",
    "\n",
    "model=xgb.train(xgb_params, dtrain, num_boost_round=2000, \n",
    "                evals=[(dval, 'validation')], early_stopping_rounds=20,\n",
    "               verbose_eval=100)\n",
    "num_boost_round=model.best_iteration"
   ]
  },
  {
   "cell_type": "code",
   "execution_count": 173,
   "metadata": {
    "collapsed": false
   },
   "outputs": [
    {
     "name": "stdout",
     "output_type": "stream",
     "text": [
      "number of f_index 52\n"
     ]
    }
   ],
   "source": [
    "score=model.get_fscore()\n",
    "score=sorted(score.items(), key=operator.itemgetter(1), reverse=True)\n",
    "score=pd.DataFrame(score, columns=['feature', 'fscore'])\n",
    "#score.to_csv(path_or_buf='submissions/scores/xgb_score_with_life.csv')\n",
    "\n",
    "importance_rate=0.03\n",
    "f_index=score[score.fscore>importance_rate*score.fscore.max()].feature.values\n",
    "print('number of f_index', len(f_index))"
   ]
  },
  {
   "cell_type": "code",
   "execution_count": 174,
   "metadata": {
    "collapsed": false
   },
   "outputs": [
    {
     "name": "stdout",
     "output_type": "stream",
     "text": [
      "[0]\tvalidation-rmse:8.40512\n",
      "Will train until validation-rmse hasn't improved in 20 rounds.\n",
      "[100]\tvalidation-rmse:1.25791\n",
      "[200]\tvalidation-rmse:0.316411\n",
      "[300]\tvalidation-rmse:0.175749\n",
      "[400]\tvalidation-rmse:0.147149\n",
      "[500]\tvalidation-rmse:0.136482\n",
      "[600]\tvalidation-rmse:0.13081\n",
      "[700]\tvalidation-rmse:0.127344\n",
      "[800]\tvalidation-rmse:0.124941\n",
      "[900]\tvalidation-rmse:0.123152\n",
      "[1000]\tvalidation-rmse:0.121717\n",
      "[1100]\tvalidation-rmse:0.120724\n",
      "[1200]\tvalidation-rmse:0.119909\n",
      "[1300]\tvalidation-rmse:0.119305\n",
      "[1400]\tvalidation-rmse:0.118691\n",
      "[1500]\tvalidation-rmse:0.118277\n",
      "[1600]\tvalidation-rmse:0.117863\n",
      "[1700]\tvalidation-rmse:0.117524\n",
      "[1800]\tvalidation-rmse:0.11729\n",
      "Stopping. Best iteration:\n",
      "[1843]\tvalidation-rmse:0.117193\n",
      "\n"
     ]
    }
   ],
   "source": [
    "train_select=pd.DataFrame(train_part)\n",
    "train_select=train_select[f_index]\n",
    "\n",
    "val_select=pd.DataFrame(val_train)\n",
    "val_select=val_select[f_index]\n",
    "\n",
    "dtrain_select=xgb.DMatrix(train_select, target_part)\n",
    "dval_select=xgb.DMatrix(val_select, val_target)\n",
    "\n",
    "xgb_params = {\n",
    "    'eta': 0.02,\n",
    "    'max_depth': 6,\n",
    "    'subsample': 0.8,\n",
    "    'colsample_bytree': 0.8,\n",
    "    'objective': 'reg:linear',\n",
    "    'eval_metric': 'rmse',\n",
    "    'silent': 0,\n",
    "    'lambda': 100,\n",
    "    'base_score': 7\n",
    "}\n",
    "\n",
    "model=xgb.train(xgb_params, dtrain_select, num_boost_round=2000, \n",
    "                evals=[(dval_select, 'validation')], early_stopping_rounds=20,\n",
    "               verbose_eval=100)\n",
    "num_boost_round=model.best_iteration"
   ]
  },
  {
   "cell_type": "code",
   "execution_count": 125,
   "metadata": {
    "collapsed": false,
    "scrolled": true
   },
   "outputs": [
    {
     "name": "stdout",
     "output_type": "stream",
     "text": [
      "[0]\ttrain-rmse:8.38846+0.000667572\ttest-rmse:8.38846+0.002664\n",
      "[100]\ttrain-rmse:1.23687+0.000628648\ttest-rmse:1.23697+0.00248685\n",
      "[200]\ttrain-rmse:0.290124+0.00109729\ttest-rmse:0.294973+0.00804937\n",
      "[300]\ttrain-rmse:0.141698+0.0010618\ttest-rmse:0.154689+0.00687291\n",
      "[400]\ttrain-rmse:0.109516+0.00113303\ttest-rmse:0.128655+0.00555067\n",
      "[500]\ttrain-rmse:0.0966796+0.00103821\ttest-rmse:0.120088+0.00612473\n",
      "[600]\ttrain-rmse:0.0891986+0.00101084\ttest-rmse:0.115664+0.00645667\n",
      "[700]\ttrain-rmse:0.083918+0.00101857\ttest-rmse:0.112849+0.00672934\n",
      "[800]\ttrain-rmse:0.0798492+0.000969576\ttest-rmse:0.11094+0.00690757\n",
      "[900]\ttrain-rmse:0.0764308+0.000958545\ttest-rmse:0.109514+0.00705437\n",
      "[1000]\ttrain-rmse:0.0735966+0.000990778\ttest-rmse:0.108497+0.00724759\n",
      "[1100]\ttrain-rmse:0.0711066+0.00104619\ttest-rmse:0.107691+0.00736205\n",
      "[1200]\ttrain-rmse:0.0688202+0.00104161\ttest-rmse:0.106968+0.0074417\n",
      "[1300]\ttrain-rmse:0.066721+0.00104575\ttest-rmse:0.106398+0.00747586\n",
      "[1400]\ttrain-rmse:0.0647754+0.00105266\ttest-rmse:0.105905+0.00756505\n",
      "[1500]\ttrain-rmse:0.0629412+0.00105701\ttest-rmse:0.105459+0.00758269\n",
      "[1600]\ttrain-rmse:0.0611968+0.00103954\ttest-rmse:0.105097+0.00762693\n",
      "[1700]\ttrain-rmse:0.0595786+0.00104364\ttest-rmse:0.104799+0.00771785\n",
      "[1800]\ttrain-rmse:0.0580404+0.000993485\ttest-rmse:0.104531+0.0077686\n",
      "[1900]\ttrain-rmse:0.0565484+0.000981838\ttest-rmse:0.104318+0.00782265\n",
      "[2000]\ttrain-rmse:0.0551694+0.000968055\ttest-rmse:0.104124+0.00788331\n",
      "[2100]\ttrain-rmse:0.0538798+0.00099918\ttest-rmse:0.103984+0.00790941\n",
      "[2200]\ttrain-rmse:0.052592+0.00100835\ttest-rmse:0.103835+0.00794171\n",
      "[2300]\ttrain-rmse:0.0513848+0.00101241\ttest-rmse:0.103708+0.00797463\n",
      "[2400]\ttrain-rmse:0.0502308+0.00099333\ttest-rmse:0.103602+0.00798703\n",
      "[2500]\ttrain-rmse:0.0491212+0.000975152\ttest-rmse:0.103493+0.00799623\n",
      "[2600]\ttrain-rmse:0.0480642+0.000968782\ttest-rmse:0.103408+0.00800019\n",
      "[2700]\ttrain-rmse:0.046994+0.000959995\ttest-rmse:0.103346+0.00802012\n",
      "[2800]\ttrain-rmse:0.0460072+0.000962844\ttest-rmse:0.10329+0.0080442\n"
     ]
    },
    {
     "data": {
      "text/html": [
       "<div>\n",
       "<table border=\"1\" class=\"dataframe\">\n",
       "  <thead>\n",
       "    <tr style=\"text-align: right;\">\n",
       "      <th></th>\n",
       "      <th>test-rmse-mean</th>\n",
       "      <th>test-rmse-std</th>\n",
       "      <th>train-rmse-mean</th>\n",
       "      <th>train-rmse-std</th>\n",
       "    </tr>\n",
       "  </thead>\n",
       "  <tbody>\n",
       "    <tr>\n",
       "      <th>0</th>\n",
       "      <td>8.388456</td>\n",
       "      <td>0.002664</td>\n",
       "      <td>8.388456</td>\n",
       "      <td>0.000668</td>\n",
       "    </tr>\n",
       "    <tr>\n",
       "      <th>1</th>\n",
       "      <td>8.225117</td>\n",
       "      <td>0.002716</td>\n",
       "      <td>8.225117</td>\n",
       "      <td>0.000612</td>\n",
       "    </tr>\n",
       "    <tr>\n",
       "      <th>2</th>\n",
       "      <td>8.064964</td>\n",
       "      <td>0.002738</td>\n",
       "      <td>8.064965</td>\n",
       "      <td>0.000584</td>\n",
       "    </tr>\n",
       "    <tr>\n",
       "      <th>3</th>\n",
       "      <td>7.907964</td>\n",
       "      <td>0.002743</td>\n",
       "      <td>7.907964</td>\n",
       "      <td>0.000574</td>\n",
       "    </tr>\n",
       "    <tr>\n",
       "      <th>4</th>\n",
       "      <td>7.754065</td>\n",
       "      <td>0.002778</td>\n",
       "      <td>7.754065</td>\n",
       "      <td>0.000539</td>\n",
       "    </tr>\n",
       "    <tr>\n",
       "      <th>5</th>\n",
       "      <td>7.603146</td>\n",
       "      <td>0.002757</td>\n",
       "      <td>7.603146</td>\n",
       "      <td>0.000566</td>\n",
       "    </tr>\n",
       "    <tr>\n",
       "      <th>6</th>\n",
       "      <td>7.455161</td>\n",
       "      <td>0.002798</td>\n",
       "      <td>7.455162</td>\n",
       "      <td>0.000530</td>\n",
       "    </tr>\n",
       "    <tr>\n",
       "      <th>7</th>\n",
       "      <td>7.310066</td>\n",
       "      <td>0.002739</td>\n",
       "      <td>7.310066</td>\n",
       "      <td>0.000558</td>\n",
       "    </tr>\n",
       "    <tr>\n",
       "      <th>8</th>\n",
       "      <td>7.167837</td>\n",
       "      <td>0.002706</td>\n",
       "      <td>7.167837</td>\n",
       "      <td>0.000580</td>\n",
       "    </tr>\n",
       "    <tr>\n",
       "      <th>9</th>\n",
       "      <td>7.028414</td>\n",
       "      <td>0.002739</td>\n",
       "      <td>7.028415</td>\n",
       "      <td>0.000538</td>\n",
       "    </tr>\n",
       "    <tr>\n",
       "      <th>10</th>\n",
       "      <td>6.891666</td>\n",
       "      <td>0.002751</td>\n",
       "      <td>6.891666</td>\n",
       "      <td>0.000521</td>\n",
       "    </tr>\n",
       "    <tr>\n",
       "      <th>11</th>\n",
       "      <td>6.757632</td>\n",
       "      <td>0.002734</td>\n",
       "      <td>6.757632</td>\n",
       "      <td>0.000533</td>\n",
       "    </tr>\n",
       "    <tr>\n",
       "      <th>12</th>\n",
       "      <td>6.626244</td>\n",
       "      <td>0.002718</td>\n",
       "      <td>6.626245</td>\n",
       "      <td>0.000541</td>\n",
       "    </tr>\n",
       "    <tr>\n",
       "      <th>13</th>\n",
       "      <td>6.497442</td>\n",
       "      <td>0.002692</td>\n",
       "      <td>6.497443</td>\n",
       "      <td>0.000565</td>\n",
       "    </tr>\n",
       "    <tr>\n",
       "      <th>14</th>\n",
       "      <td>6.371114</td>\n",
       "      <td>0.002688</td>\n",
       "      <td>6.371114</td>\n",
       "      <td>0.000580</td>\n",
       "    </tr>\n",
       "    <tr>\n",
       "      <th>15</th>\n",
       "      <td>6.247276</td>\n",
       "      <td>0.002695</td>\n",
       "      <td>6.247276</td>\n",
       "      <td>0.000570</td>\n",
       "    </tr>\n",
       "    <tr>\n",
       "      <th>16</th>\n",
       "      <td>6.125868</td>\n",
       "      <td>0.002707</td>\n",
       "      <td>6.125869</td>\n",
       "      <td>0.000557</td>\n",
       "    </tr>\n",
       "    <tr>\n",
       "      <th>17</th>\n",
       "      <td>6.006855</td>\n",
       "      <td>0.002726</td>\n",
       "      <td>6.006855</td>\n",
       "      <td>0.000518</td>\n",
       "    </tr>\n",
       "    <tr>\n",
       "      <th>18</th>\n",
       "      <td>5.890205</td>\n",
       "      <td>0.002728</td>\n",
       "      <td>5.890205</td>\n",
       "      <td>0.000521</td>\n",
       "    </tr>\n",
       "    <tr>\n",
       "      <th>19</th>\n",
       "      <td>5.775827</td>\n",
       "      <td>0.002716</td>\n",
       "      <td>5.775827</td>\n",
       "      <td>0.000526</td>\n",
       "    </tr>\n",
       "    <tr>\n",
       "      <th>20</th>\n",
       "      <td>5.663682</td>\n",
       "      <td>0.002720</td>\n",
       "      <td>5.663682</td>\n",
       "      <td>0.000508</td>\n",
       "    </tr>\n",
       "    <tr>\n",
       "      <th>21</th>\n",
       "      <td>5.553804</td>\n",
       "      <td>0.002687</td>\n",
       "      <td>5.553804</td>\n",
       "      <td>0.000539</td>\n",
       "    </tr>\n",
       "    <tr>\n",
       "      <th>22</th>\n",
       "      <td>5.446031</td>\n",
       "      <td>0.002705</td>\n",
       "      <td>5.446032</td>\n",
       "      <td>0.000500</td>\n",
       "    </tr>\n",
       "    <tr>\n",
       "      <th>23</th>\n",
       "      <td>5.340357</td>\n",
       "      <td>0.002703</td>\n",
       "      <td>5.340358</td>\n",
       "      <td>0.000483</td>\n",
       "    </tr>\n",
       "    <tr>\n",
       "      <th>24</th>\n",
       "      <td>5.236769</td>\n",
       "      <td>0.002703</td>\n",
       "      <td>5.236770</td>\n",
       "      <td>0.000472</td>\n",
       "    </tr>\n",
       "    <tr>\n",
       "      <th>25</th>\n",
       "      <td>5.135208</td>\n",
       "      <td>0.002711</td>\n",
       "      <td>5.135209</td>\n",
       "      <td>0.000458</td>\n",
       "    </tr>\n",
       "    <tr>\n",
       "      <th>26</th>\n",
       "      <td>5.035593</td>\n",
       "      <td>0.002678</td>\n",
       "      <td>5.035594</td>\n",
       "      <td>0.000484</td>\n",
       "    </tr>\n",
       "    <tr>\n",
       "      <th>27</th>\n",
       "      <td>4.937945</td>\n",
       "      <td>0.002681</td>\n",
       "      <td>4.937945</td>\n",
       "      <td>0.000480</td>\n",
       "    </tr>\n",
       "    <tr>\n",
       "      <th>28</th>\n",
       "      <td>4.842256</td>\n",
       "      <td>0.002668</td>\n",
       "      <td>4.842257</td>\n",
       "      <td>0.000474</td>\n",
       "    </tr>\n",
       "    <tr>\n",
       "      <th>29</th>\n",
       "      <td>4.748446</td>\n",
       "      <td>0.002663</td>\n",
       "      <td>4.748447</td>\n",
       "      <td>0.000472</td>\n",
       "    </tr>\n",
       "    <tr>\n",
       "      <th>...</th>\n",
       "      <td>...</td>\n",
       "      <td>...</td>\n",
       "      <td>...</td>\n",
       "      <td>...</td>\n",
       "    </tr>\n",
       "    <tr>\n",
       "      <th>2789</th>\n",
       "      <td>0.103296</td>\n",
       "      <td>0.008036</td>\n",
       "      <td>0.046109</td>\n",
       "      <td>0.000967</td>\n",
       "    </tr>\n",
       "    <tr>\n",
       "      <th>2790</th>\n",
       "      <td>0.103295</td>\n",
       "      <td>0.008034</td>\n",
       "      <td>0.046101</td>\n",
       "      <td>0.000967</td>\n",
       "    </tr>\n",
       "    <tr>\n",
       "      <th>2791</th>\n",
       "      <td>0.103295</td>\n",
       "      <td>0.008034</td>\n",
       "      <td>0.046090</td>\n",
       "      <td>0.000967</td>\n",
       "    </tr>\n",
       "    <tr>\n",
       "      <th>2792</th>\n",
       "      <td>0.103296</td>\n",
       "      <td>0.008033</td>\n",
       "      <td>0.046082</td>\n",
       "      <td>0.000965</td>\n",
       "    </tr>\n",
       "    <tr>\n",
       "      <th>2793</th>\n",
       "      <td>0.103297</td>\n",
       "      <td>0.008036</td>\n",
       "      <td>0.046072</td>\n",
       "      <td>0.000964</td>\n",
       "    </tr>\n",
       "    <tr>\n",
       "      <th>2794</th>\n",
       "      <td>0.103295</td>\n",
       "      <td>0.008037</td>\n",
       "      <td>0.046061</td>\n",
       "      <td>0.000963</td>\n",
       "    </tr>\n",
       "    <tr>\n",
       "      <th>2795</th>\n",
       "      <td>0.103294</td>\n",
       "      <td>0.008039</td>\n",
       "      <td>0.046052</td>\n",
       "      <td>0.000962</td>\n",
       "    </tr>\n",
       "    <tr>\n",
       "      <th>2796</th>\n",
       "      <td>0.103295</td>\n",
       "      <td>0.008041</td>\n",
       "      <td>0.046043</td>\n",
       "      <td>0.000961</td>\n",
       "    </tr>\n",
       "    <tr>\n",
       "      <th>2797</th>\n",
       "      <td>0.103293</td>\n",
       "      <td>0.008042</td>\n",
       "      <td>0.046033</td>\n",
       "      <td>0.000960</td>\n",
       "    </tr>\n",
       "    <tr>\n",
       "      <th>2798</th>\n",
       "      <td>0.103292</td>\n",
       "      <td>0.008043</td>\n",
       "      <td>0.046025</td>\n",
       "      <td>0.000960</td>\n",
       "    </tr>\n",
       "    <tr>\n",
       "      <th>2799</th>\n",
       "      <td>0.103290</td>\n",
       "      <td>0.008046</td>\n",
       "      <td>0.046017</td>\n",
       "      <td>0.000960</td>\n",
       "    </tr>\n",
       "    <tr>\n",
       "      <th>2800</th>\n",
       "      <td>0.103290</td>\n",
       "      <td>0.008044</td>\n",
       "      <td>0.046007</td>\n",
       "      <td>0.000963</td>\n",
       "    </tr>\n",
       "    <tr>\n",
       "      <th>2801</th>\n",
       "      <td>0.103292</td>\n",
       "      <td>0.008043</td>\n",
       "      <td>0.045996</td>\n",
       "      <td>0.000963</td>\n",
       "    </tr>\n",
       "    <tr>\n",
       "      <th>2802</th>\n",
       "      <td>0.103293</td>\n",
       "      <td>0.008044</td>\n",
       "      <td>0.045987</td>\n",
       "      <td>0.000963</td>\n",
       "    </tr>\n",
       "    <tr>\n",
       "      <th>2803</th>\n",
       "      <td>0.103293</td>\n",
       "      <td>0.008045</td>\n",
       "      <td>0.045975</td>\n",
       "      <td>0.000961</td>\n",
       "    </tr>\n",
       "    <tr>\n",
       "      <th>2804</th>\n",
       "      <td>0.103292</td>\n",
       "      <td>0.008045</td>\n",
       "      <td>0.045967</td>\n",
       "      <td>0.000960</td>\n",
       "    </tr>\n",
       "    <tr>\n",
       "      <th>2805</th>\n",
       "      <td>0.103291</td>\n",
       "      <td>0.008045</td>\n",
       "      <td>0.045959</td>\n",
       "      <td>0.000962</td>\n",
       "    </tr>\n",
       "    <tr>\n",
       "      <th>2806</th>\n",
       "      <td>0.103291</td>\n",
       "      <td>0.008045</td>\n",
       "      <td>0.045949</td>\n",
       "      <td>0.000960</td>\n",
       "    </tr>\n",
       "    <tr>\n",
       "      <th>2807</th>\n",
       "      <td>0.103290</td>\n",
       "      <td>0.008044</td>\n",
       "      <td>0.045939</td>\n",
       "      <td>0.000959</td>\n",
       "    </tr>\n",
       "    <tr>\n",
       "      <th>2808</th>\n",
       "      <td>0.103289</td>\n",
       "      <td>0.008045</td>\n",
       "      <td>0.045929</td>\n",
       "      <td>0.000957</td>\n",
       "    </tr>\n",
       "    <tr>\n",
       "      <th>2809</th>\n",
       "      <td>0.103287</td>\n",
       "      <td>0.008044</td>\n",
       "      <td>0.045919</td>\n",
       "      <td>0.000957</td>\n",
       "    </tr>\n",
       "    <tr>\n",
       "      <th>2810</th>\n",
       "      <td>0.103286</td>\n",
       "      <td>0.008043</td>\n",
       "      <td>0.045909</td>\n",
       "      <td>0.000956</td>\n",
       "    </tr>\n",
       "    <tr>\n",
       "      <th>2811</th>\n",
       "      <td>0.103285</td>\n",
       "      <td>0.008045</td>\n",
       "      <td>0.045900</td>\n",
       "      <td>0.000956</td>\n",
       "    </tr>\n",
       "    <tr>\n",
       "      <th>2812</th>\n",
       "      <td>0.103287</td>\n",
       "      <td>0.008044</td>\n",
       "      <td>0.045890</td>\n",
       "      <td>0.000957</td>\n",
       "    </tr>\n",
       "    <tr>\n",
       "      <th>2813</th>\n",
       "      <td>0.103288</td>\n",
       "      <td>0.008045</td>\n",
       "      <td>0.045880</td>\n",
       "      <td>0.000955</td>\n",
       "    </tr>\n",
       "    <tr>\n",
       "      <th>2814</th>\n",
       "      <td>0.103289</td>\n",
       "      <td>0.008046</td>\n",
       "      <td>0.045869</td>\n",
       "      <td>0.000954</td>\n",
       "    </tr>\n",
       "    <tr>\n",
       "      <th>2815</th>\n",
       "      <td>0.103289</td>\n",
       "      <td>0.008045</td>\n",
       "      <td>0.045861</td>\n",
       "      <td>0.000953</td>\n",
       "    </tr>\n",
       "    <tr>\n",
       "      <th>2816</th>\n",
       "      <td>0.103288</td>\n",
       "      <td>0.008044</td>\n",
       "      <td>0.045850</td>\n",
       "      <td>0.000953</td>\n",
       "    </tr>\n",
       "    <tr>\n",
       "      <th>2817</th>\n",
       "      <td>0.103286</td>\n",
       "      <td>0.008044</td>\n",
       "      <td>0.045840</td>\n",
       "      <td>0.000952</td>\n",
       "    </tr>\n",
       "    <tr>\n",
       "      <th>2818</th>\n",
       "      <td>0.103284</td>\n",
       "      <td>0.008046</td>\n",
       "      <td>0.045830</td>\n",
       "      <td>0.000951</td>\n",
       "    </tr>\n",
       "  </tbody>\n",
       "</table>\n",
       "<p>2819 rows × 4 columns</p>\n",
       "</div>"
      ],
      "text/plain": [
       "      test-rmse-mean  test-rmse-std  train-rmse-mean  train-rmse-std\n",
       "0           8.388456       0.002664         8.388456        0.000668\n",
       "1           8.225117       0.002716         8.225117        0.000612\n",
       "2           8.064964       0.002738         8.064965        0.000584\n",
       "3           7.907964       0.002743         7.907964        0.000574\n",
       "4           7.754065       0.002778         7.754065        0.000539\n",
       "5           7.603146       0.002757         7.603146        0.000566\n",
       "6           7.455161       0.002798         7.455162        0.000530\n",
       "7           7.310066       0.002739         7.310066        0.000558\n",
       "8           7.167837       0.002706         7.167837        0.000580\n",
       "9           7.028414       0.002739         7.028415        0.000538\n",
       "10          6.891666       0.002751         6.891666        0.000521\n",
       "11          6.757632       0.002734         6.757632        0.000533\n",
       "12          6.626244       0.002718         6.626245        0.000541\n",
       "13          6.497442       0.002692         6.497443        0.000565\n",
       "14          6.371114       0.002688         6.371114        0.000580\n",
       "15          6.247276       0.002695         6.247276        0.000570\n",
       "16          6.125868       0.002707         6.125869        0.000557\n",
       "17          6.006855       0.002726         6.006855        0.000518\n",
       "18          5.890205       0.002728         5.890205        0.000521\n",
       "19          5.775827       0.002716         5.775827        0.000526\n",
       "20          5.663682       0.002720         5.663682        0.000508\n",
       "21          5.553804       0.002687         5.553804        0.000539\n",
       "22          5.446031       0.002705         5.446032        0.000500\n",
       "23          5.340357       0.002703         5.340358        0.000483\n",
       "24          5.236769       0.002703         5.236770        0.000472\n",
       "25          5.135208       0.002711         5.135209        0.000458\n",
       "26          5.035593       0.002678         5.035594        0.000484\n",
       "27          4.937945       0.002681         4.937945        0.000480\n",
       "28          4.842256       0.002668         4.842257        0.000474\n",
       "29          4.748446       0.002663         4.748447        0.000472\n",
       "...              ...            ...              ...             ...\n",
       "2789        0.103296       0.008036         0.046109        0.000967\n",
       "2790        0.103295       0.008034         0.046101        0.000967\n",
       "2791        0.103295       0.008034         0.046090        0.000967\n",
       "2792        0.103296       0.008033         0.046082        0.000965\n",
       "2793        0.103297       0.008036         0.046072        0.000964\n",
       "2794        0.103295       0.008037         0.046061        0.000963\n",
       "2795        0.103294       0.008039         0.046052        0.000962\n",
       "2796        0.103295       0.008041         0.046043        0.000961\n",
       "2797        0.103293       0.008042         0.046033        0.000960\n",
       "2798        0.103292       0.008043         0.046025        0.000960\n",
       "2799        0.103290       0.008046         0.046017        0.000960\n",
       "2800        0.103290       0.008044         0.046007        0.000963\n",
       "2801        0.103292       0.008043         0.045996        0.000963\n",
       "2802        0.103293       0.008044         0.045987        0.000963\n",
       "2803        0.103293       0.008045         0.045975        0.000961\n",
       "2804        0.103292       0.008045         0.045967        0.000960\n",
       "2805        0.103291       0.008045         0.045959        0.000962\n",
       "2806        0.103291       0.008045         0.045949        0.000960\n",
       "2807        0.103290       0.008044         0.045939        0.000959\n",
       "2808        0.103289       0.008045         0.045929        0.000957\n",
       "2809        0.103287       0.008044         0.045919        0.000957\n",
       "2810        0.103286       0.008043         0.045909        0.000956\n",
       "2811        0.103285       0.008045         0.045900        0.000956\n",
       "2812        0.103287       0.008044         0.045890        0.000957\n",
       "2813        0.103288       0.008045         0.045880        0.000955\n",
       "2814        0.103289       0.008046         0.045869        0.000954\n",
       "2815        0.103289       0.008045         0.045861        0.000953\n",
       "2816        0.103288       0.008044         0.045850        0.000953\n",
       "2817        0.103286       0.008044         0.045840        0.000952\n",
       "2818        0.103284       0.008046         0.045830        0.000951\n",
       "\n",
       "[2819 rows x 4 columns]"
      ]
     },
     "execution_count": 125,
     "metadata": {},
     "output_type": "execute_result"
    }
   ],
   "source": [
    "#train xgb with full train data\n",
    "xgb_params = {\n",
    "    'eta': 0.02,\n",
    "    'max_depth': 6,\n",
    "    'subsample': 0.8,\n",
    "    'colsample_bytree': 0.8,\n",
    "    'objective': 'reg:linear',\n",
    "    'eval_metric': 'rmse',\n",
    "    'silent': 0,\n",
    "    'lambda': 100,\n",
    "    'base_score': 7\n",
    "}\n",
    "\n",
    "Ddata_with_life=xgb.DMatrix(train_with_life[f_index], target_with_life)\n",
    "\n",
    "#full_model=xgb.train(xgb_params, Ddata_std, num_boost_round=num_boost_round,\n",
    "#                    verbose_eval=100)\n",
    "#xgb.cv(xgb_params, Ddata_with_life, num_boost_round=3000, nfold=5, \n",
    "#       verbose_eval=100, early_stopping_rounds=20)\n",
    "\n",
    "# Ddata_no_life=xgb.DMatrix(train_no_life[f_index], target_no_life)\n",
    "\n",
    "# xgb.cv(xgb_params, Ddata_no_life, num_boost_round=3000, nfold=5, \n",
    "#        verbose_eval=100, early_stopping_rounds=20)"
   ]
  },
  {
   "cell_type": "code",
   "execution_count": 175,
   "metadata": {
    "collapsed": false
   },
   "outputs": [],
   "source": [
    "# Ddata_with_life=xgb.DMatrix(train_with_life[f_index], target_with_life)\n",
    "# full_model_with_life=xgb.train(xgb_params, Ddata_with_life, \n",
    "#                     num_boost_round=num_boost_round, verbose_eval=100)\n",
    "\n",
    "Ddata_no_life=xgb.DMatrix(train_no_life[f_index], target_no_life)\n",
    "full_model_no_life=xgb.train(xgb_params, Ddata_no_life, \n",
    "                    num_boost_round=num_boost_round,verbose_eval=100)"
   ]
  },
  {
   "cell_type": "code",
   "execution_count": 160,
   "metadata": {
    "collapsed": false
   },
   "outputs": [
    {
     "data": {
      "text/html": [
       "<div>\n",
       "<table border=\"1\" class=\"dataframe\">\n",
       "  <thead>\n",
       "    <tr style=\"text-align: right;\">\n",
       "      <th></th>\n",
       "      <th>id</th>\n",
       "      <th>price_doc</th>\n",
       "    </tr>\n",
       "  </thead>\n",
       "  <tbody>\n",
       "    <tr>\n",
       "      <th>0</th>\n",
       "      <td>30474</td>\n",
       "      <td>15.498250</td>\n",
       "    </tr>\n",
       "    <tr>\n",
       "      <th>1</th>\n",
       "      <td>30476</td>\n",
       "      <td>15.470566</td>\n",
       "    </tr>\n",
       "    <tr>\n",
       "      <th>2</th>\n",
       "      <td>30477</td>\n",
       "      <td>15.519384</td>\n",
       "    </tr>\n",
       "    <tr>\n",
       "      <th>3</th>\n",
       "      <td>30478</td>\n",
       "      <td>15.296707</td>\n",
       "    </tr>\n",
       "    <tr>\n",
       "      <th>4</th>\n",
       "      <td>30482</td>\n",
       "      <td>15.376550</td>\n",
       "    </tr>\n",
       "  </tbody>\n",
       "</table>\n",
       "</div>"
      ],
      "text/plain": [
       "      id  price_doc\n",
       "0  30474  15.498250\n",
       "1  30476  15.470566\n",
       "2  30477  15.519384\n",
       "3  30478  15.296707\n",
       "4  30482  15.376550"
      ]
     },
     "execution_count": 160,
     "metadata": {},
     "output_type": "execute_result"
    }
   ],
   "source": [
    "Dtest_with_life=xgb.DMatrix(test_with_life[f_index])\n",
    "pre_with_life=full_model_with_life.predict(Dtest_with_life)\n",
    "pre_with_life=pd.DataFrame({'id': id_test_with_life, 'price_doc': pre_with_life})\n",
    "pre_with_life.head()"
   ]
  },
  {
   "cell_type": "code",
   "execution_count": 176,
   "metadata": {
    "collapsed": false
   },
   "outputs": [
    {
     "data": {
      "text/html": [
       "<div>\n",
       "<table border=\"1\" class=\"dataframe\">\n",
       "  <thead>\n",
       "    <tr style=\"text-align: right;\">\n",
       "      <th></th>\n",
       "      <th>id</th>\n",
       "      <th>price_doc</th>\n",
       "    </tr>\n",
       "  </thead>\n",
       "  <tbody>\n",
       "    <tr>\n",
       "      <th>0</th>\n",
       "      <td>30475</td>\n",
       "      <td>15.992988</td>\n",
       "    </tr>\n",
       "    <tr>\n",
       "      <th>1</th>\n",
       "      <td>30479</td>\n",
       "      <td>16.141916</td>\n",
       "    </tr>\n",
       "    <tr>\n",
       "      <th>2</th>\n",
       "      <td>30480</td>\n",
       "      <td>15.361623</td>\n",
       "    </tr>\n",
       "    <tr>\n",
       "      <th>3</th>\n",
       "      <td>30481</td>\n",
       "      <td>15.315285</td>\n",
       "    </tr>\n",
       "    <tr>\n",
       "      <th>4</th>\n",
       "      <td>30484</td>\n",
       "      <td>15.619556</td>\n",
       "    </tr>\n",
       "  </tbody>\n",
       "</table>\n",
       "</div>"
      ],
      "text/plain": [
       "      id  price_doc\n",
       "0  30475  15.992988\n",
       "1  30479  16.141916\n",
       "2  30480  15.361623\n",
       "3  30481  15.315285\n",
       "4  30484  15.619556"
      ]
     },
     "execution_count": 176,
     "metadata": {},
     "output_type": "execute_result"
    }
   ],
   "source": [
    "Dtest_no_life=xgb.DMatrix(test_no_life[f_index])\n",
    "pre_no_life=full_model_no_life.predict(Dtest_no_life)\n",
    "pre_no_life=pd.DataFrame({'id': id_test_no_life, 'price_doc': pre_no_life})\n",
    "pre_no_life.head()"
   ]
  },
  {
   "cell_type": "code",
   "execution_count": 185,
   "metadata": {
    "collapsed": false
   },
   "outputs": [
    {
     "name": "stderr",
     "output_type": "stream",
     "text": [
      "/home/xinlin/anaconda3/lib/python3.5/site-packages/ipykernel/__main__.py:3: FutureWarning: sort(columns=....) is deprecated, use sort_values(by=.....)\n",
      "  app.launch_new_instance()\n"
     ]
    }
   ],
   "source": [
    "pre_full=pd.concat([pre_with_life, pre_no_life])\n",
    "pre_full['price_doc']=np.exp(pre_full.price_doc)-1\n",
    "pre_full.sort(columns='id', inplace=True)\n",
    "pre_full.to_csv(path_or_buf='170529seperatre_life.csv', index=False)"
   ]
  },
  {
   "cell_type": "code",
   "execution_count": 152,
   "metadata": {
    "collapsed": false
   },
   "outputs": [
    {
     "data": {
      "image/png": "[encoded data removed]",
      "text/plain": [
       "<matplotlib.figure.Figure at 0x7f93d949ab00>"
      ]
     },
     "metadata": {},
     "output_type": "display_data"
    }
   ],
   "source": [
    "plt.scatter(target_with_life, full_model_with_life.predict(Ddata_with_life))\n",
    "plt.plot([12,19], [12, 19])\n",
    "plt.xlabel('target_price')\n",
    "plt.ylabel('prediction')\n",
    "plt.title('with life_sq')\n",
    "#plt.savefig('with_life_sq.pdf')"
   ]
  },
  {
   "cell_type": "code",
   "execution_count": 153,
   "metadata": {
    "collapsed": false
   },
   "outputs": [
    {
     "data": {
      "image/png": "[encoded data removed]",
      "text/plain": [
       "<matplotlib.figure.Figure at 0x7f93f7a9fac8>"
      ]
     },
     "metadata": {},
     "output_type": "display_data"
    }
   ],
   "source": [
    "plt.scatter(target_no_life, full_model_no_life.predict(Ddata_no_life))\n",
    "plt.plot([12,19], [12, 19])\n",
    "plt.xlabel('target_price')\n",
    "plt.ylabel('prediction')\n",
    "plt.title('without life_sq')\n",
    "plt.savefig('plots/without_life_sq.pdf')"
   ]
  },
  {
   "cell_type": "code",
   "execution_count": 119,
   "metadata": {
    "collapsed": false
   },
   "outputs": [
    {
     "data": {
      "text/html": [
       "<div>\n",
       "<table border=\"1\" class=\"dataframe\">\n",
       "  <thead>\n",
       "    <tr style=\"text-align: right;\">\n",
       "      <th></th>\n",
       "      <th>id</th>\n",
       "      <th>price_doc_xgb</th>\n",
       "    </tr>\n",
       "  </thead>\n",
       "  <tbody>\n",
       "    <tr>\n",
       "      <th>0</th>\n",
       "      <td>30474</td>\n",
       "      <td>5619100.0</td>\n",
       "    </tr>\n",
       "    <tr>\n",
       "      <th>1</th>\n",
       "      <td>30475</td>\n",
       "      <td>8844294.0</td>\n",
       "    </tr>\n",
       "    <tr>\n",
       "      <th>2</th>\n",
       "      <td>30476</td>\n",
       "      <td>5284690.0</td>\n",
       "    </tr>\n",
       "    <tr>\n",
       "      <th>3</th>\n",
       "      <td>30477</td>\n",
       "      <td>6106908.0</td>\n",
       "    </tr>\n",
       "    <tr>\n",
       "      <th>4</th>\n",
       "      <td>30478</td>\n",
       "      <td>5312507.5</td>\n",
       "    </tr>\n",
       "  </tbody>\n",
       "</table>\n",
       "</div>"
      ],
      "text/plain": [
       "      id  price_doc_xgb\n",
       "0  30474      5619100.0\n",
       "1  30475      8844294.0\n",
       "2  30476      5284690.0\n",
       "3  30477      6106908.0\n",
       "4  30478      5312507.5"
      ]
     },
     "execution_count": 119,
     "metadata": {},
     "output_type": "execute_result"
    }
   ],
   "source": [
    "in_xgb=full_model.predict(Ddata_std)\n",
    "in_xgb=np.exp(in_xgb)-1\n",
    "insample_xgb=pd.DataFrame({'id': train.id, 'price_doc_xgb': in_xgb})\n",
    "insample_xgb.to_csv(path_or_buf='ensamble/xgb_train_0.03importance.csv', index=False)\n",
    "\n",
    "dtest_std=xgb.DMatrix(test_std[f_index])\n",
    "pre_xgb=full_model.predict(dtest_std)\n",
    "pre_xgb=np.exp(pre_xgb)-1\n",
    "\n",
    "submission=pd.DataFrame({'id': test_id, 'price_doc_xgb': pre_xgb})\n",
    "submission.to_csv(path_or_buf='ensamble/170527subission_xgb_with_12macro_cleandata_8newfeature_0.03import.csv',index=False)\n",
    "submission.head()\n"
   ]
  },
  {
   "cell_type": "code",
   "execution_count": 118,
   "metadata": {
    "collapsed": false
   },
   "outputs": [
    {
     "data": {
      "text/html": [
       "<div>\n",
       "<table border=\"1\" class=\"dataframe\">\n",
       "  <thead>\n",
       "    <tr style=\"text-align: right;\">\n",
       "      <th></th>\n",
       "      <th>id</th>\n",
       "      <th>price_doc</th>\n",
       "    </tr>\n",
       "  </thead>\n",
       "  <tbody>\n",
       "    <tr>\n",
       "      <th>0</th>\n",
       "      <td>30474</td>\n",
       "      <td>5860943.5</td>\n",
       "    </tr>\n",
       "    <tr>\n",
       "      <th>1</th>\n",
       "      <td>30475</td>\n",
       "      <td>8614750.0</td>\n",
       "    </tr>\n",
       "    <tr>\n",
       "      <th>2</th>\n",
       "      <td>30476</td>\n",
       "      <td>4888695.5</td>\n",
       "    </tr>\n",
       "    <tr>\n",
       "      <th>3</th>\n",
       "      <td>30477</td>\n",
       "      <td>6142954.0</td>\n",
       "    </tr>\n",
       "    <tr>\n",
       "      <th>4</th>\n",
       "      <td>30478</td>\n",
       "      <td>5388001.5</td>\n",
       "    </tr>\n",
       "  </tbody>\n",
       "</table>\n",
       "</div>"
      ],
      "text/plain": [
       "      id  price_doc\n",
       "0  30474  5860943.5\n",
       "1  30475  8614750.0\n",
       "2  30476  4888695.5\n",
       "3  30477  6142954.0\n",
       "4  30478  5388001.5"
      ]
     },
     "execution_count": 118,
     "metadata": {},
     "output_type": "execute_result"
    }
   ],
   "source": [
    "pre_xgb=np.exp(pre_xgb)-1\n",
    "\n",
    "submission=pd.DataFrame({'id': test_id, 'price_doc': pre_xgb})\n",
    "submission.to_csv(path_or_buf='170525subission_xgb_with_12macro_cleandata_8newfeature_nosubsample_0.03impoartance.csv',index=False)\n",
    "submission.head()"
   ]
  },
  {
   "cell_type": "markdown",
   "metadata": {
    "collapsed": false
   },
   "source": [
    "# GBRT"
   ]
  },
  {
   "cell_type": "code",
   "execution_count": 20,
   "metadata": {
    "collapsed": false
   },
   "outputs": [],
   "source": [
    "from sklearn.ensemble import GradientBoostingRegressor\n",
    "\n",
    "GBRT_clf=GradientBoostingRegressor(n_estimators=300,learning_rate=0.03,\n",
    "                                   verbose=1, random_state=random_state)\n",
    "\n",
    "#clf.fit(train_std[f_index], target)\n",
    "#clf.fit(train_std, target)\n",
    "\n",
    "GBRT_params={'loss': ['ls', 'lad'],\n",
    "            'max_features': ['auto', 'sqrt'],\n",
    "            'subsample': [0.6, 0.7, 0.8, 0.9],\n",
    "            'max_leaf_nodes': [7,8,9,10]}\n",
    "\n",
    "GBRT_cv=GridSearchCV(GBRT_clf, GBRT_params, cv=5, n_jobs=-1)\n",
    "GBRT_cv.fit(train_std, target)"
   ]
  },
  {
   "cell_type": "code",
   "execution_count": 96,
   "metadata": {
    "collapsed": false
   },
   "outputs": [
    {
     "data": {
      "text/plain": [
       "GradientBoostingRegressor(alpha=0.9, criterion='friedman_mse', init=None,\n",
       "             learning_rate=0.02, loss='ls', max_depth=3, max_features=None,\n",
       "             max_leaf_nodes=10, min_impurity_split=1e-07,\n",
       "             min_samples_leaf=1, min_samples_split=2,\n",
       "             min_weight_fraction_leaf=0.0, n_estimators=600,\n",
       "             presort='auto', random_state=7, subsample=0.9, verbose=0,\n",
       "             warm_start=False)"
      ]
     },
     "execution_count": 96,
     "metadata": {},
     "output_type": "execute_result"
    }
   ],
   "source": [
    "GBRT_clf=GradientBoostingRegressor(n_estimators=600,learning_rate=0.02,\n",
    "                                   verbose=0, random_state=random_state,\n",
    "                                  subsample=0.9, max_leaf_nodes=10)\n",
    "\n",
    "GBRT_clf.fit(train_std, target)\n",
    "\n",
    "# pre_GBRT=GBRT_clf.predict(test_std)\n",
    "# pre_GBRT=np.exp(pre_GBRT)-1\n",
    "\n",
    "# submission=pd.DataFrame({'id': test_id, 'price_doc': pre_GBRT})\n",
    "# submission.to_csv(path_or_buf='170526submission_GBRT_with_12features_cleandata_macro.csv',index=False)\n",
    "# submission.head()"
   ]
  },
  {
   "cell_type": "code",
   "execution_count": 116,
   "metadata": {
    "collapsed": false
   },
   "outputs": [
    {
     "name": "stdout",
     "output_type": "stream",
     "text": [
      "number of f_index 135\n"
     ]
    }
   ],
   "source": [
    "GBRT_dict=dict()\n",
    "for f, importance in zip(train_std.columns, GBRT_clf.feature_importances_):\n",
    "    GBRT_dict[f]=importance\n",
    "\n",
    "GBRT_dict=sorted(GBRT_dict.items(), key=operator.itemgetter(1), reverse=True)\n",
    "GBRT_dict=pd.DataFrame(GBRT_dict, columns=['feature', 'GBRT_score'])\n",
    "GBRT_dict.to_csv(path_or_buf='submissions/scores/GBRT_score.csv')\n",
    "\n",
    "importance_rate=0.01\n",
    "GBRT_index=GBRT_dict[xgb_dict.GBRT_score>importance_rate*GBRT_dict.GBRT_score.max()].feature.values\n",
    "print('number of f_index', len(GBRT_index))"
   ]
  },
  {
   "cell_type": "code",
   "execution_count": 117,
   "metadata": {
    "collapsed": false
   },
   "outputs": [
    {
     "data": {
      "text/plain": [
       "GradientBoostingRegressor(alpha=0.9, criterion='friedman_mse', init=None,\n",
       "             learning_rate=0.02, loss='ls', max_depth=3, max_features=None,\n",
       "             max_leaf_nodes=10, min_impurity_split=1e-07,\n",
       "             min_samples_leaf=1, min_samples_split=2,\n",
       "             min_weight_fraction_leaf=0.0, n_estimators=600,\n",
       "             presort='auto', random_state=7, subsample=0.9, verbose=0,\n",
       "             warm_start=False)"
      ]
     },
     "execution_count": 117,
     "metadata": {},
     "output_type": "execute_result"
    }
   ],
   "source": [
    "GBRT_fullmode=GradientBoostingRegressor(n_estimators=600,learning_rate=0.02,\n",
    "                                   verbose=0, random_state=random_state,\n",
    "                                  subsample=0.9, max_leaf_nodes=10)\n",
    "\n",
    "#scores = cross_val_score(GBRT_cv, train_std[GBRT_index], target, cv=5)\n",
    "#print(\"Accuracy: %0.4f (+/- %0.4f)\" % (scores.mean(), scores.std()))\n",
    "GBRT_fullmode.fit(train_std[GBRT_index], target)"
   ]
  },
  {
   "cell_type": "code",
   "execution_count": 118,
   "metadata": {
    "collapsed": false
   },
   "outputs": [
    {
     "data": {
      "text/html": [
       "<div>\n",
       "<table border=\"1\" class=\"dataframe\">\n",
       "  <thead>\n",
       "    <tr style=\"text-align: right;\">\n",
       "      <th></th>\n",
       "      <th>id</th>\n",
       "      <th>price_doc_GBRT</th>\n",
       "    </tr>\n",
       "  </thead>\n",
       "  <tbody>\n",
       "    <tr>\n",
       "      <th>0</th>\n",
       "      <td>30474</td>\n",
       "      <td>5633902.113439</td>\n",
       "    </tr>\n",
       "    <tr>\n",
       "      <th>1</th>\n",
       "      <td>30475</td>\n",
       "      <td>8287396.831267</td>\n",
       "    </tr>\n",
       "    <tr>\n",
       "      <th>2</th>\n",
       "      <td>30476</td>\n",
       "      <td>5465193.683202</td>\n",
       "    </tr>\n",
       "    <tr>\n",
       "      <th>3</th>\n",
       "      <td>30477</td>\n",
       "      <td>5576789.089920</td>\n",
       "    </tr>\n",
       "    <tr>\n",
       "      <th>4</th>\n",
       "      <td>30478</td>\n",
       "      <td>5103606.320849</td>\n",
       "    </tr>\n",
       "  </tbody>\n",
       "</table>\n",
       "</div>"
      ],
      "text/plain": [
       "      id  price_doc_GBRT\n",
       "0  30474  5633902.113439\n",
       "1  30475  8287396.831267\n",
       "2  30476  5465193.683202\n",
       "3  30477  5576789.089920\n",
       "4  30478  5103606.320849"
      ]
     },
     "execution_count": 118,
     "metadata": {},
     "output_type": "execute_result"
    }
   ],
   "source": [
    "in_GBRT=GBRT_fullmode.predict(train_std[GBRT_index])\n",
    "in_GBRT=np.exp(in_GBRT)-1\n",
    "insample_GBRT=pd.DataFrame({'id': train.id, 'price_doc_GBRT': in_GBRT})\n",
    "insample_GBRT.to_csv(path_or_buf='ensamble/GBRT_train_0.03importance.csv', index=False)\n",
    "\n",
    "\n",
    "pre_GBRT=GBRT_fullmode.predict(test_std[GBRT_index])\n",
    "pre_GBRT=np.exp(pre_GBRT)-1\n",
    "\n",
    "submission=pd.DataFrame({'id': test_id, 'price_doc_GBRT': pre_GBRT})\n",
    "submission.to_csv(path_or_buf='ensamble/170527submission_GBRT_with_12features_macro_0.03import.csv',index=False)\n",
    "submission.head()"
   ]
  },
  {
   "cell_type": "code",
   "execution_count": null,
   "metadata": {
    "collapsed": true
   },
   "outputs": [],
   "source": []
  }
 ],
 "metadata": {
  "anaconda-cloud": {},
  "kernelspec": {
   "display_name": "Python [Root]",
   "language": "python",
   "name": "Python [Root]"
  },
  "language_info": {
   "codemirror_mode": {
    "name": "ipython",
    "version": 3
   },
   "file_extension": ".py",
   "mimetype": "text/x-python",
   "name": "python",
   "nbconvert_exporter": "python",
   "pygments_lexer": "ipython3",
   "version": "3.5.2"
  }
 },
 "nbformat": 4,
 "nbformat_minor": 0
}
